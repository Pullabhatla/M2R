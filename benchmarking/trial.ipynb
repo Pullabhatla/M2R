{
 "metadata": {
  "language_info": {
   "codemirror_mode": {
    "name": "ipython",
    "version": 3
   },
   "file_extension": ".py",
   "mimetype": "text/x-python",
   "name": "python",
   "nbconvert_exporter": "python",
   "pygments_lexer": "ipython3",
   "version": "3.8.5"
  },
  "orig_nbformat": 2,
  "kernelspec": {
   "name": "pythonjvsc74a57bd031860a5a2966026df1622493a09a9f4bd2d12321f15fb70109b2a609690b4574",
   "display_name": "Python 3.8.5  ('M2R_venv': venv)"
  },
  "metadata": {
   "interpreter": {
    "hash": "31860a5a2966026df1622493a09a9f4bd2d12321f15fb70109b2a609690b4574"
   }
  }
 },
 "nbformat": 4,
 "nbformat_minor": 2,
 "cells": [
  {
   "cell_type": "code",
   "execution_count": 1,
   "metadata": {},
   "outputs": [],
   "source": [
    "from benchmark_data import *\n",
    "from Req import * \n",
    "from GraphTheory.benchmarking_christofides import christofides1\n",
    "from GraphTheory.tspt import tspfull3\n",
    "from ant_colony import ant_colony\n",
    "from SA.sa import simulated_annealing, hybrid\n",
    "from time import time\n",
    "trials = 3"
   ]
  },
  {
   "source": [
    "### Exhaustive Enumeration"
   ],
   "cell_type": "markdown",
   "metadata": {}
  },
  {
   "source": [
    "for mat in mat_list[:3]:\n",
    "    times = []\n",
    "    results = []\n",
    "    map = gen_ran(len(mat))\n",
    "    map.D = mat\n",
    "    for i in range(trials):\n",
    "        t0 = time()\n",
    "        result = brute_tour(map).cost()\n",
    "        t1 = time()\n",
    "        times.append(t1-t0)\n",
    "        results.append(int(result))\n",
    "    print(sum(times)/trials, sorted(results))"
   ],
   "cell_type": "code",
   "metadata": {},
   "execution_count": 2,
   "outputs": [
    {
     "output_type": "stream",
     "name": "stdout",
     "text": [
      "7.255872090657552e-05 [12, 12, 12]\n",
      "0.0002891222635904948 [28, 28, 28]\n",
      "0.0814056396484375 [88, 88, 88]\n"
     ]
    }
   ]
  },
  {
   "source": [
    "### Bellman-Held-Karp Algorithm"
   ],
   "cell_type": "markdown",
   "metadata": {}
  },
  {
   "cell_type": "code",
   "execution_count": 3,
   "metadata": {},
   "outputs": [
    {
     "output_type": "stream",
     "name": "stdout",
     "text": [
      "0.00013327598571777344 [12, 12, 12]\n",
      "0.0004569689432779948 [28, 28, 28]\n",
      "0.007482290267944336 [88, 88, 88]\n",
      "0.4299156665802002 [1733, 1733, 1733]\n",
      "6.557425896326701 [291, 291, 291]\n"
     ]
    }
   ],
   "source": [
    "for mat in mat_list[:5]:\n",
    "    times = []\n",
    "    results = []\n",
    "    map = gen_ran(len(mat))\n",
    "    map.D = mat\n",
    "    for i in range(trials):\n",
    "        t0 = time()\n",
    "        result = held_karp(map).cost()\n",
    "        t1 = time()\n",
    "        times.append(t1-t0)\n",
    "        results.append(int(result))\n",
    "    print(sum(times)/trials, sorted(results))\n"
   ]
  },
  {
   "source": [
    "### Branch and Bound"
   ],
   "cell_type": "markdown",
   "metadata": {}
  },
  {
   "cell_type": "code",
   "execution_count": 4,
   "metadata": {},
   "outputs": [
    {
     "output_type": "stream",
     "name": "stdout",
     "text": [
      "0.003095706303914388 [12, 12, 12]\n",
      "0.00478363037109375 [28, 28, 28]\n",
      "0.03746930758158366 [88, 88, 88]\n",
      "2.6546289126078286 [1733, 1733, 1733]\n",
      "1.3412803014119465 [291, 291, 291]\n"
     ]
    }
   ],
   "source": [
    "for mat in mat_list[:5]:\n",
    "    times = []\n",
    "    results = []\n",
    "    map = gen_ran(len(mat))\n",
    "    map.D = mat\n",
    "    for i in range(trials):\n",
    "        t0 = time()\n",
    "        result = tspfull3(mat)[0]\n",
    "        t1 = time()\n",
    "        times.append(t1-t0)\n",
    "        results.append(int(result))\n",
    "    print(sum(times)/trials, sorted(results))"
   ]
  },
  {
   "source": [
    "### Nearest Neighbour Algorithm"
   ],
   "cell_type": "markdown",
   "metadata": {}
  },
  {
   "cell_type": "code",
   "execution_count": 5,
   "metadata": {},
   "outputs": [
    {
     "output_type": "stream",
     "name": "stdout",
     "text": [
      "3.20275624593099e-05 [12, 12, 12]\n2.1139780680338543e-05 [36, 36, 36]\n4.3551127115885414e-05 [122, 122, 122]\n5.038579305013021e-05 [2110, 2110, 2110]\n0.0001456737518310547 [291, 291, 291]\n"
     ]
    }
   ],
   "source": [
    "for mat in mat_list[:5]:\n",
    "    times = []\n",
    "    results = []\n",
    "    map = gen_ran(len(mat))\n",
    "    map.D = mat\n",
    "    for i in range(trials):\n",
    "        t0 = time()\n",
    "        result = nearest_neighbour(map).cost()\n",
    "        t1 = time()\n",
    "        times.append(t1-t0)\n",
    "        results.append(int(result))\n",
    "    print(sum(times)/trials, sorted(results))"
   ]
  },
  {
   "cell_type": "code",
   "execution_count": 7,
   "metadata": {},
   "outputs": [
    {
     "output_type": "stream",
     "name": "stdout",
     "text": [
      "6.175041198730469e-05 [2110, 2110, 2110]\n",
      "0.0003933906555175781 [36388, 36388, 36388]\n",
      "0.0005714893341064453 [9745, 9745, 9745]\n",
      "0.014469782511393229 [704, 704, 704]\n",
      "0.03792246182759603 [11640, 11640, 11640]\n",
      "0.11071070035298665 [3157, 3157, 3157]\n",
      "0.2689635753631592 [1925, 1925, 1925]\n",
      "1.401761770248413 [3124, 3124, 3124]\n",
      "1.8511326313018799 [99247, 99247, 99247]\n",
      "3.7276631196339927 [113926, 113926, 113926]\n"
     ]
    }
   ],
   "source": [
    "# OLD CELL, DO NOT RERUN!!!\n",
    "for mat in mat_list:\n",
    "    times = []\n",
    "    results = []\n",
    "    map = gen_ran(len(mat))\n",
    "    map.D = mat\n",
    "    for i in range(trials):\n",
    "        t0 = time()\n",
    "        result = nearest_neighbour(map).cost()\n",
    "        t1 = time()\n",
    "        times.append(t1-t0)\n",
    "        results.append(int(result))\n",
    "    print(sum(times)/trials, sorted(results))"
   ]
  },
  {
   "source": [
    "### Repeated Nearest Neighbour Algorithm"
   ],
   "cell_type": "markdown",
   "metadata": {}
  },
  {
   "cell_type": "code",
   "execution_count": 6,
   "metadata": {},
   "outputs": [
    {
     "output_type": "stream",
     "name": "stdout",
     "text": [
      "6.016095479329427e-05 [12, 12, 12]\n0.00011698404947916667 [36, 36, 36]\n0.0002696514129638672 [108, 108, 108]\n0.0006070931752522787 [1733, 1733, 1733]\n0.001373608907063802 [291, 291, 291]\n"
     ]
    }
   ],
   "source": [
    "for mat in mat_list[:5]:\n",
    "    times = []\n",
    "    results = []\n",
    "    map = gen_ran(len(mat))\n",
    "    map.D = mat\n",
    "    for i in range(trials):\n",
    "        t0 = time()\n",
    "        result = best_nn(map).cost()\n",
    "        t1 = time()\n",
    "        times.append(t1-t0)\n",
    "        results.append(int(result))\n",
    "    print(sum(times)/trials, sorted(results))"
   ]
  },
  {
   "cell_type": "code",
   "execution_count": 8,
   "metadata": {},
   "outputs": [
    {
     "output_type": "stream",
     "name": "stdout",
     "text": [
      "0.0011748472849527996 [1733, 1733, 1733]\n",
      "0.010091940561930338 [32164, 32164, 32164]\n",
      "0.020305951436360676 [6766, 6766, 6766]\n",
      "1.688113768895467 [629, 629, 629]\n",
      "7.30439551671346 [11282, 11282, 11282]\n",
      "30.53232725461324 [2975, 2975, 2975]\n",
      "114.05272348721822 [1810, 1810, 1810]\n",
      "961.143871307373 [3010, 3010, 3010]\n"
     ]
    }
   ],
   "source": [
    "# OLD CELL, DO NOT RERUN!!!\n",
    "for mat in mat_list[:8]:\n",
    "    times = []\n",
    "    results = []\n",
    "    map = gen_ran(len(mat))\n",
    "    map.D = mat\n",
    "    for i in range(trials):\n",
    "        t0 = time()\n",
    "        result = best_nn(map).cost()\n",
    "        t1 = time()\n",
    "        times.append(t1-t0)\n",
    "        results.append(int(result))\n",
    "    print(sum(times)/trials, sorted(results))"
   ]
  },
  {
   "source": [
    "### Christofides Algorithm"
   ],
   "cell_type": "markdown",
   "metadata": {}
  },
  {
   "cell_type": "code",
   "execution_count": 7,
   "metadata": {},
   "outputs": [
    {
     "output_type": "stream",
     "name": "stdout",
     "text": [
      "0.03889179229736328 [15, 15, 15]\n",
      "0.03327695528666178 [51, 51, 51]\n",
      "0.03422665596008301 [124, 124, 124]\n",
      "0.04560732841491699 [2145, 2145, 2145]\n",
      "0.0391388734181722 [291, 291, 291]\n"
     ]
    }
   ],
   "source": [
    "for mat in mat_list[:5]:\n",
    "    times = []\n",
    "    results = []\n",
    "    map = gen_ran(len(mat))\n",
    "    map.D = mat\n",
    "    for i in range(trials):\n",
    "        t0 = time()\n",
    "        result = int(sum(christofides1(mat, True)))\n",
    "        t1 = time()\n",
    "        times.append(t1-t0)\n",
    "        results.append(result)\n",
    "    print(sum(times)/trials, sorted(results))"
   ]
  },
  {
   "cell_type": "code",
   "execution_count": 9,
   "metadata": {},
   "outputs": [
    {
     "output_type": "stream",
     "name": "stdout",
     "text": [
      "0.05388283729553223 [2145, 2145, 2145]\n",
      "0.05661900838216146 [30640, 30640, 30640]\n",
      "0.07064493497212727 [6755, 6755, 6755]\n",
      "0.4730103015899658 [622, 622, 622]\n",
      "1.4018205801645915 [10315, 10315, 10315]\n",
      "2.053540070851644 [2859, 2859, 2859]\n",
      "3.5250035921732583 [1798, 1798, 1798]\n",
      "27.895605246225994 [2793, 2793, 2793]\n",
      "51.00515834490458 [86657, 86657, 86657]\n",
      "86.83155965805054 [106026, 106026, 106026]\n"
     ]
    }
   ],
   "source": [
    "# OLD CELL, DO NOT RERUN!!!\n",
    "for mat in mat_list:\n",
    "    times = []\n",
    "    results = []\n",
    "    map = gen_ran(len(mat))\n",
    "    map.D = mat\n",
    "    for i in range(trials):\n",
    "        t0 = time()\n",
    "        result = int(sum(christofides1(mat, True)))\n",
    "        t1 = time()\n",
    "        times.append(t1-t0)\n",
    "        results.append(result)\n",
    "    print(sum(times)/trials, sorted(results))\n",
    "\n"
   ]
  },
  {
   "cell_type": "code",
   "execution_count": null,
   "metadata": {},
   "outputs": [],
   "source": [
    "# Use own Kruskals\n",
    "\n",
    "for mat in mat_list:\n",
    "    times = []\n",
    "    results = []\n",
    "    map = gen_ran(len(mat))\n",
    "    map.D = mat\n",
    "    for i in range(trials):\n",
    "        t0 = time()\n",
    "        result = int(sum(christofides1(mat, over_ride=True, own_kruskals=True)))\n",
    "        t1 = time()\n",
    "        times.append(t1-t0)\n",
    "        results.append(result)\n",
    "    print(sum(times)/trials, sorted(results))"
   ]
  },
  {
   "source": [
    "### Repeated 2-opt Swaps"
   ],
   "cell_type": "markdown",
   "metadata": {}
  },
  {
   "cell_type": "code",
   "execution_count": 2,
   "metadata": {},
   "outputs": [
    {
     "output_type": "stream",
     "name": "stdout",
     "text": [
      "7.915496826171875e-05 [12, 12, 12]\n0.0001579920450846354 [28, 28, 28]\n0.00041063626607259113 [122, 122, 122]\n0.0023146470387776694 [1948, 1948, 1948]\n0.0018742879231770833 [291, 291, 291]\n"
     ]
    }
   ],
   "source": [
    "for mat in mat_list[:5]:\n",
    "    times = []\n",
    "    results = []\n",
    "    map = gen_ran(len(mat))\n",
    "    map.D = mat\n",
    "    tour = nearest_neighbour(map)\n",
    "    for i in range(trials):\n",
    "        t0 = time()\n",
    "        result = repeated_2_opt(tour).cost()\n",
    "        t1 = time()\n",
    "        times.append(t1-t0)\n",
    "        results.append(int(result))\n",
    "    print(sum(times)/trials, sorted(results))"
   ]
  },
  {
   "cell_type": "code",
   "execution_count": 10,
   "metadata": {},
   "outputs": [
    {
     "output_type": "stream",
     "name": "stdout",
     "text": [
      "0.0015038649241129558 [1948, 1948, 1948]\n",
      "0.012293020884195963 [33968, 33968, 33968]\n",
      "0.030042648315429688 [9125, 9125, 9125]\n",
      "0.8915100892384847 [680, 680, 680]\n",
      "5.344809691111247 [11379, 11379, 11379]\n",
      "15.778013547261557 [3126, 3126, 3126]\n",
      "20.941096782684326 [1890, 1890, 1890]\n",
      "512.5845741430918 [3086, 3086, 3086]\n",
      "153.30830009778342 [98442, 98442, 98442]\n",
      "603.5663665135702 [113094, 113094, 113094]\n"
     ]
    }
   ],
   "source": [
    "# OLD CELL, DO NOT RERUN!!!\n",
    "for mat in mat_list:\n",
    "    times = []\n",
    "    results = []\n",
    "    map = gen_ran(len(mat))\n",
    "    map.D = mat\n",
    "    tour = nearest_neighbour(map)\n",
    "    for i in range(trials):\n",
    "        t0 = time()\n",
    "        result = repeated_2_opt(tour).cost()\n",
    "        t1 = time()\n",
    "        times.append(t1-t0)\n",
    "        results.append(int(result))\n",
    "    print(sum(times)/trials, sorted(results))"
   ]
  },
  {
   "cell_type": "code",
   "execution_count": null,
   "metadata": {},
   "outputs": [],
   "source": []
  },
  {
   "source": [
    "### Simulated Annealing"
   ],
   "cell_type": "markdown",
   "metadata": {}
  },
  {
   "cell_type": "code",
   "execution_count": 3,
   "metadata": {},
   "outputs": [
    {
     "output_type": "stream",
     "name": "stdout",
     "text": [
      "40.3296959400177 [12, 12, 12]\n",
      "45.75787536303202 [28, 28, 28]\n",
      "50.77869685490926 [88, 88, 88]\n",
      "54.48449651400248 [1733, 1733, 1733]\n",
      "63.25432483355204 [291, 291, 291]\n"
     ]
    }
   ],
   "source": [
    "for mat in mat_list[:5]:\n",
    "    times = []\n",
    "    results = []\n",
    "    n = len(mat) \n",
    "    map = gen_ran(n)\n",
    "    map.D = mat\n",
    "    tour = nearest_neighbour(map)\n",
    "    for i in range(trials):\n",
    "        t0 = time()\n",
    "        result = simulated_annealing(tour, t0=100, alpha=0.9996, int_its=50, swap=hybrid).cost()\n",
    "        t1 = time()\n",
    "        times.append(t1-t0)\n",
    "        results.append(int(result))\n",
    "    print(sum(times)/trials, sorted(results))"
   ]
  },
  {
   "cell_type": "code",
   "execution_count": 12,
   "metadata": {},
   "outputs": [
    {
     "output_type": "stream",
     "name": "stdout",
     "text": [
      "52.9017608165741 [1733, 1733, 1733]\n",
      "80.91056211789449 [27603, 27603, 27603]\n",
      "95.40864324569702 [6656, 6656, 6656]\n",
      "238.71268844604492 [570, 578, 589]\n",
      "335.1769670645396 [9624, 9624, 9788]\n",
      "458.6442750295003 [2650, 2732, 2787]\n",
      "616.2999628384908 [1706, 1805, 1823]\n",
      "1082.1957291762035 [2741, 2783, 2826]\n",
      "1295.4482905864716 [85035, 85148, 85567]\n",
      "1639.0745946566265 [100971, 102225, 102408]\n"
     ]
    }
   ],
   "source": [
    "# OLD CELL, DO NOT RERUN!!!\n",
    "for mat in mat_list:\n",
    "    times = []\n",
    "    results = []\n",
    "    n = len(mat) \n",
    "    map = gen_ran(n)\n",
    "    map.D = mat\n",
    "    tour = nearest_neighbour(map)\n",
    "    for i in range(trials):\n",
    "        t0 = time()\n",
    "        result = simulated_annealing(tour, t0=100, alpha=0.9996, int_its=50, swap=hybrid).cost()\n",
    "        t1 = time()\n",
    "        times.append(t1-t0)\n",
    "        results.append(int(result))\n",
    "    print(sum(times)/trials, sorted(results))"
   ]
  },
  {
   "source": [
    "### Ant Colony Optimisation"
   ],
   "cell_type": "markdown",
   "metadata": {}
  },
  {
   "cell_type": "code",
   "execution_count": 4,
   "metadata": {},
   "outputs": [
    {
     "output_type": "stream",
     "name": "stderr",
     "text": [
      "/home/spull/M2R/M2R/ant_colony/ant_colony.py:35: RuntimeWarning: divide by zero encountered in true_divide\n",
      "  eta = 1/map.D\n",
      "0.21081296602884927 [12, 12, 12]\n",
      "0.2531397342681885 [28, 28, 28]\n",
      "0.44602004686991376 [88, 88, 95]\n",
      "0.7698784669240316 [1733, 1733, 1733]\n",
      "1.0587278207143147 [291, 291, 291]\n",
      "2.775338570276896 [28490, 29324, 29431]\n",
      "4.402291297912598 [6663, 6696, 6709]\n",
      "41.79428458213806 [626, 637, 647]\n",
      "88.34078208605449 [10509, 10864, 11264]\n",
      "184.71126993497214 [3005, 3065, 3065]\n",
      "349.9794011910756 [1795, 1825, 1829]\n",
      "1045.9106358687084 [2901, 2993, 3000]\n",
      "1276.6102503140767 [94119, 95217, 98094]\n",
      "2040.0794467131298 [112371, 114245, 116176]\n"
     ]
    }
   ],
   "source": [
    "for mat in mat_list:\n",
    "    times = []\n",
    "    results = []\n",
    "    n = len(mat) \n",
    "    map = gen_ran(n)\n",
    "    map.D = mat\n",
    "    for i in range(trials):\n",
    "        t0 = time()\n",
    "        result = ant_colony(map,  alpha=3, beta=4, m=50, rho=0.2, q=1, its_max=50).cost()\n",
    "        t1 = time()\n",
    "        times.append(t1-t0)\n",
    "        results.append(int(result))\n",
    "    print(sum(times)/trials, sorted(results))"
   ]
  }
 ]
}