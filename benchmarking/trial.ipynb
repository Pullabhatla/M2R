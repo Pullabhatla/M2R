{
 "metadata": {
  "language_info": {
   "codemirror_mode": {
    "name": "ipython",
    "version": 3
   },
   "file_extension": ".py",
   "mimetype": "text/x-python",
   "name": "python",
   "nbconvert_exporter": "python",
   "pygments_lexer": "ipython3",
   "version": "3.8.5"
  },
  "orig_nbformat": 2,
  "kernelspec": {
   "name": "pythonjvsc74a57bd031860a5a2966026df1622493a09a9f4bd2d12321f15fb70109b2a609690b4574",
   "display_name": "Python 3.8.5  ('M2R_venv': venv)"
  },
  "metadata": {
   "interpreter": {
    "hash": "31860a5a2966026df1622493a09a9f4bd2d12321f15fb70109b2a609690b4574"
   }
  }
 },
 "nbformat": 4,
 "nbformat_minor": 2,
 "cells": [
  {
   "cell_type": "code",
   "execution_count": 1,
   "metadata": {},
   "outputs": [],
   "source": [
    "from benchmark_data import *\n",
    "from Req import * \n",
    "from GraphTheory.benchmarking_christofides import christofides1\n",
    "from ant_colony import ant_colony\n",
    "from SA import sa\n",
    "from time import time\n",
    "from numpy.random import shuffle\n",
    "trials = 1"
   ]
  },
  {
   "cell_type": "code",
   "execution_count": null,
   "metadata": {},
   "outputs": [],
   "source": [
    "for mat in mat_list[:1]:\n",
    "    times = []\n",
    "    results = []\n",
    "    map = gen_ran(len(mat))\n",
    "    map.D = mat\n",
    "    for i in range(trials):\n",
    "        t0 = time()\n",
    "        result = brute_tour(map).cost()\n",
    "        t1 = time()\n",
    "        times.append(t1-t0)\n",
    "        results.append(result)\n",
    "    print(sum(times)/trials, results)"
   ]
  },
  {
   "cell_type": "code",
   "execution_count": 6,
   "metadata": {},
   "outputs": [
    {
     "output_type": "stream",
     "name": "stdout",
     "text": [
      "0.4196500778198242 [1733]\n"
     ]
    }
   ],
   "source": [
    "for mat in mat_list[:1]:\n",
    "    times = []\n",
    "    results = []\n",
    "    map = gen_ran(len(mat))\n",
    "    map.D = mat\n",
    "    for i in range(trials):\n",
    "        t0 = time()\n",
    "        result = held_karp(map).cost()\n",
    "        t1 = time()\n",
    "        times.append(t1-t0)\n",
    "        results.append(result)\n",
    "    print(sum(times)/trials, results)\n"
   ]
  },
  {
   "cell_type": "code",
   "execution_count": 7,
   "metadata": {},
   "outputs": [
    {
     "output_type": "stream",
     "name": "stdout",
     "text": [
      "6.461143493652344e-05 [2110]\n",
      "0.00025272369384765625 [36388.05923226534]\n",
      "0.0005168914794921875 [9748.94670516838]\n",
      "0.014028072357177734 [709.5216278258143]\n",
      "0.03471112251281738 [11892.888058614652]\n",
      "0.10831904411315918 [3148.109934934404]\n",
      "0.2628912925720215 [2071.8621488390363]\n",
      "1.32173752784729 [3244.8069297875477]\n",
      "1.9007289409637451 [102594.35793052983]\n",
      "3.901592969894409 [117733.69616508145]\n"
     ]
    }
   ],
   "source": [
    "for mat in mat_list:\n",
    "    times = []\n",
    "    results = []\n",
    "    map = gen_ran(len(mat))\n",
    "    map.D = mat\n",
    "    for i in range(trials):\n",
    "        t0 = time()\n",
    "        result = nearest_neighbour(map).cost()\n",
    "        t1 = time()\n",
    "        times.append(t1-t0)\n",
    "        results.append(result)\n",
    "    print(sum(times)/trials, results)"
   ]
  },
  {
   "cell_type": "code",
   "execution_count": 10,
   "metadata": {},
   "outputs": [
    {
     "output_type": "stream",
     "name": "stdout",
     "text": [
      "0.0011055469512939453 [1733]\n",
      "0.007414579391479492 [32161.40297490449]\n",
      "0.02046680450439453 [6770.07692171576]\n",
      "1.6979701519012451 [628.7206044979843]\n",
      "7.116898059844971 [11330.393196425215]\n"
     ]
    }
   ],
   "source": [
    "for mat in mat_list:\n",
    "    times = []\n",
    "    results = []\n",
    "    map = gen_ran(len(mat))\n",
    "    map.D = mat\n",
    "    for i in range(trials):\n",
    "        t0 = time()\n",
    "        result = best_nn(map).cost()\n",
    "        t1 = time()\n",
    "        times.append(t1-t0)\n",
    "        results.append(result)\n",
    "    print(sum(times)/trials, results)"
   ]
  },
  {
   "cell_type": "code",
   "execution_count": 3,
   "metadata": {},
   "outputs": [
    {
     "output_type": "stream",
     "name": "stdout",
     "text": [
      "0.04363608360290527 2145\n",
      "0.06386661529541016 31827.811555692748\n",
      "0.06623077392578125 6758.586205818501\n",
      "0.45848894119262695 612.1855197792014\n",
      "1.3885328769683838 10314.249774868978\n",
      "2.130051851272583 2916.0846625271392\n",
      "3.4170966148376465 1824.7342412062023\n",
      "29.85619854927063 2813.7313098897266\n",
      "59.728346824645996 86748.90475170662\n",
      "110.29957175254822 105264.39875520446\n"
     ]
    }
   ],
   "source": [
    "trials = 1\n",
    "for mat in mat_list:\n",
    "    times = []\n",
    "    map = gen_ran(len(mat))\n",
    "    map.D = mat\n",
    "    for i in range(trials):\n",
    "        t0 = time()\n",
    "        result = christofides1(mat, True)\n",
    "        t1 = time()\n",
    "        times.append(t1-t0)\n",
    "    print(sum(times)/trials, sum(result))\n",
    "\n"
   ]
  },
  {
   "cell_type": "code",
   "execution_count": 14,
   "metadata": {},
   "outputs": [
    {
     "output_type": "stream",
     "name": "stdout",
     "text": [
      "0.0019986629486083984 [1948]\n",
      "0.010716676712036133 [33967.634851134164]\n",
      "0.03509378433227539 [9128.995705703926]\n",
      "0.798304557800293 [676.2229381020024]\n",
      "2.469017505645752 [11674.318734230075]\n",
      "14.456514596939087 [3117.195425903057]\n",
      "37.1878867149353 [2018.1968018301347]\n",
      "209.49356818199158 [3196.368879427386]\n",
      "308.26665902137756 [100733.740754702]\n",
      "647.9748277664185 [115409.98841118564]\n"
     ]
    }
   ],
   "source": [
    "for mat in mat_list:\n",
    "    times = []\n",
    "    results = []\n",
    "    map = gen_ran(len(mat))\n",
    "    map.D = mat\n",
    "    tour = nearest_neighbour(map)\n",
    "    for i in range(trials):\n",
    "        t0 = time()\n",
    "        result = repeated_2_opt(tour).cost()\n",
    "        t1 = time()\n",
    "        times.append(t1-t0)\n",
    "        results.append(result)\n",
    "    print(sum(times)/trials, results)"
   ]
  },
  {
   "cell_type": "code",
   "execution_count": 2,
   "metadata": {},
   "outputs": [
    {
     "output_type": "stream",
     "name": "stderr",
     "text": [
      "/home/spull/M2R/M2R/ant_colony/ant_colony.py:35: RuntimeWarning: divide by zero encountered in true_divide\n",
      "  eta = 1/map.D\n",
      "0.08156895637512207 [1733]\n",
      "0.47640204429626465 [30071.601193364484]\n",
      "1.0073235034942627 [6803.943881718994]\n",
      "31.89253282546997 [637.4563065256128]\n",
      "85.69383955001831 [11140.753316454455]\n",
      "/home/spull/M2R/M2R/ant_colony/ant_colony.py:60: RuntimeWarning: invalid value encountered in true_divide\n",
      "  prob_roulette = prob_roulette/sum(prob_roulette)\n",
      "[[1. 1. 1. ... 1. 1. 1.]\n",
      " [1. 1. 1. ... 1. 1. 1.]\n",
      " [1. 1. 1. ... 1. 1. 1.]\n",
      " ...\n",
      " [1. 1. 1. ... 1. 1. 1.]\n",
      " [1. 1. 1. ... 1. 1. 1.]\n",
      " [1. 1. 1. ... 1. 1. 1.]]\n",
      "[[0.         0.05       0.04152274 ... 0.02311251 0.02906191 0.0559017 ]\n",
      " [0.05       0.         0.05423261 ... 0.02760788 0.03571429 0.1118034 ]\n",
      " [0.04152274 0.05423261 0.         ... 0.05076731 0.09284767 0.1       ]\n",
      " ...\n",
      " [0.02311251 0.02760788 0.05076731 ... 0.         0.1118034  0.03434014]\n",
      " [0.02906191 0.03571429 0.09284767 ... 0.1118034  0.         0.04902903]\n",
      " [0.0559017  0.1118034  0.1        ... 0.03434014 0.04902903 0.        ]]\n"
     ]
    },
    {
     "output_type": "error",
     "ename": "ValueError",
     "evalue": "",
     "traceback": [
      "\u001b[0;31m---------------------------------------------------------------------------\u001b[0m",
      "\u001b[0;31mValueError\u001b[0m                                Traceback (most recent call last)",
      "\u001b[0;32m~/M2R/M2R/ant_colony/ant_colony.py\u001b[0m in \u001b[0;36mant_colony\u001b[0;34m(map, alpha, beta, m, rho, q, its_max)\u001b[0m\n\u001b[1;32m     63\u001b[0m                 \u001b[0;32mtry\u001b[0m\u001b[0;34m:\u001b[0m\u001b[0;34m\u001b[0m\u001b[0;34m\u001b[0m\u001b[0m\n\u001b[0;32m---> 64\u001b[0;31m                     \u001b[0mnode_next\u001b[0m \u001b[0;34m=\u001b[0m \u001b[0mlist\u001b[0m\u001b[0;34m(\u001b[0m\u001b[0mcum_roulette\u001b[0m \u001b[0;34m>=\u001b[0m \u001b[0;36m0\u001b[0m\u001b[0;34m)\u001b[0m\u001b[0;34m.\u001b[0m\u001b[0mindex\u001b[0m\u001b[0;34m(\u001b[0m\u001b[0;32mTrue\u001b[0m\u001b[0;34m)\u001b[0m\u001b[0;34m\u001b[0m\u001b[0;34m\u001b[0m\u001b[0m\n\u001b[0m\u001b[1;32m     65\u001b[0m                 \u001b[0;32mexcept\u001b[0m\u001b[0;34m:\u001b[0m\u001b[0;34m\u001b[0m\u001b[0;34m\u001b[0m\u001b[0m\n",
      "\u001b[0;31mValueError\u001b[0m: True is not in list",
      "\nDuring handling of the above exception, another exception occurred:\n",
      "\u001b[0;31mValueError\u001b[0m                                Traceback (most recent call last)",
      "\u001b[0;32m<ipython-input-2-d8487295b78c>\u001b[0m in \u001b[0;36m<module>\u001b[0;34m\u001b[0m\n\u001b[1;32m      7\u001b[0m     \u001b[0;32mfor\u001b[0m \u001b[0mi\u001b[0m \u001b[0;32min\u001b[0m \u001b[0mrange\u001b[0m\u001b[0;34m(\u001b[0m\u001b[0mtrials\u001b[0m\u001b[0;34m)\u001b[0m\u001b[0;34m:\u001b[0m\u001b[0;34m\u001b[0m\u001b[0;34m\u001b[0m\u001b[0m\n\u001b[1;32m      8\u001b[0m         \u001b[0mt0\u001b[0m \u001b[0;34m=\u001b[0m \u001b[0mtime\u001b[0m\u001b[0;34m(\u001b[0m\u001b[0;34m)\u001b[0m\u001b[0;34m\u001b[0m\u001b[0;34m\u001b[0m\u001b[0m\n\u001b[0;32m----> 9\u001b[0;31m         \u001b[0mresult\u001b[0m \u001b[0;34m=\u001b[0m \u001b[0mant_colony\u001b[0m\u001b[0;34m(\u001b[0m\u001b[0mmap\u001b[0m\u001b[0;34m,\u001b[0m \u001b[0mits_max\u001b[0m\u001b[0;34m=\u001b[0m\u001b[0mn\u001b[0m\u001b[0;34m)\u001b[0m\u001b[0;34m.\u001b[0m\u001b[0mcost\u001b[0m\u001b[0;34m(\u001b[0m\u001b[0;34m)\u001b[0m\u001b[0;34m\u001b[0m\u001b[0;34m\u001b[0m\u001b[0m\n\u001b[0m\u001b[1;32m     10\u001b[0m         \u001b[0mt1\u001b[0m \u001b[0;34m=\u001b[0m \u001b[0mtime\u001b[0m\u001b[0;34m(\u001b[0m\u001b[0;34m)\u001b[0m\u001b[0;34m\u001b[0m\u001b[0;34m\u001b[0m\u001b[0m\n\u001b[1;32m     11\u001b[0m         \u001b[0mtimes\u001b[0m\u001b[0;34m.\u001b[0m\u001b[0mappend\u001b[0m\u001b[0;34m(\u001b[0m\u001b[0mt1\u001b[0m\u001b[0;34m-\u001b[0m\u001b[0mt0\u001b[0m\u001b[0;34m)\u001b[0m\u001b[0;34m\u001b[0m\u001b[0;34m\u001b[0m\u001b[0m\n",
      "\u001b[0;32m~/M2R/M2R/ant_colony/ant_colony.py\u001b[0m in \u001b[0;36mant_colony\u001b[0;34m(map, alpha, beta, m, rho, q, its_max)\u001b[0m\n\u001b[1;32m     66\u001b[0m                     \u001b[0mprint\u001b[0m\u001b[0;34m(\u001b[0m\u001b[0mtau\u001b[0m\u001b[0;34m)\u001b[0m\u001b[0;34m\u001b[0m\u001b[0;34m\u001b[0m\u001b[0m\n\u001b[1;32m     67\u001b[0m                     \u001b[0mprint\u001b[0m\u001b[0;34m(\u001b[0m\u001b[0meta\u001b[0m\u001b[0;34m)\u001b[0m\u001b[0;34m\u001b[0m\u001b[0;34m\u001b[0m\u001b[0m\n\u001b[0;32m---> 68\u001b[0;31m                     \u001b[0;32mraise\u001b[0m \u001b[0mValueError\u001b[0m\u001b[0;34m\u001b[0m\u001b[0;34m\u001b[0m\u001b[0m\n\u001b[0m\u001b[1;32m     69\u001b[0m                 \u001b[0mpaths_array\u001b[0m\u001b[0;34m[\u001b[0m\u001b[0mi\u001b[0m\u001b[0;34m,\u001b[0m \u001b[0mj\u001b[0m\u001b[0;34m]\u001b[0m \u001b[0;34m=\u001b[0m \u001b[0mnode_next\u001b[0m\u001b[0;34m\u001b[0m\u001b[0;34m\u001b[0m\u001b[0m\n\u001b[1;32m     70\u001b[0m                 \u001b[0mpaths_length\u001b[0m\u001b[0;34m[\u001b[0m\u001b[0mi\u001b[0m\u001b[0;34m]\u001b[0m \u001b[0;34m+=\u001b[0m \u001b[0mmap\u001b[0m\u001b[0;34m.\u001b[0m\u001b[0mD\u001b[0m\u001b[0;34m[\u001b[0m\u001b[0mnode_now\u001b[0m\u001b[0;34m,\u001b[0m \u001b[0mnode_next\u001b[0m\u001b[0;34m]\u001b[0m\u001b[0;34m\u001b[0m\u001b[0;34m\u001b[0m\u001b[0m\n",
      "\u001b[0;31mValueError\u001b[0m: "
     ]
    }
   ],
   "source": [
    "for mat in mat_list:\n",
    "    times = []\n",
    "    results = []\n",
    "    n = len(mat) \n",
    "    map = gen_ran(n)\n",
    "    map.D = mat\n",
    "    for i in range(trials):\n",
    "        t0 = time()\n",
    "        result = ant_colony(map, its_max=n).cost()\n",
    "        t1 = time()\n",
    "        times.append(t1-t0)\n",
    "        results.append(result)\n",
    "    print(sum(times)/trials, results)"
   ]
  },
  {
   "cell_type": "code",
   "execution_count": null,
   "metadata": {},
   "outputs": [],
   "source": [
    "for mat in mat_list:\n",
    "    times = []\n",
    "    results = []\n",
    "    n = len(mat) \n",
    "    map = gen_ran(n)\n",
    "    map.D = mat\n",
    "    tour = Hamiltonian(shuffle(),)\n",
    "    for i in range(trials):\n",
    "        t0 = time()\n",
    "        result = ant_colony(map, m=((3*n)//2))\n",
    "        t1 = time()\n",
    "        times.append(t1-t0)\n",
    "        results.append(result)\n",
    "    print(sum(times)/trials, results)"
   ]
  }
 ]
}