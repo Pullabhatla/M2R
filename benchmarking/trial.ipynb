{
 "metadata": {
  "language_info": {
   "codemirror_mode": {
    "name": "ipython",
    "version": 3
   },
   "file_extension": ".py",
   "mimetype": "text/x-python",
   "name": "python",
   "nbconvert_exporter": "python",
   "pygments_lexer": "ipython3",
   "version": "3.8.5"
  },
  "orig_nbformat": 2,
  "kernelspec": {
   "name": "pythonjvsc74a57bd031860a5a2966026df1622493a09a9f4bd2d12321f15fb70109b2a609690b4574",
   "display_name": "Python 3.8.5  ('M2R_venv': venv)"
  },
  "metadata": {
   "interpreter": {
    "hash": "31860a5a2966026df1622493a09a9f4bd2d12321f15fb70109b2a609690b4574"
   }
  }
 },
 "nbformat": 4,
 "nbformat_minor": 2,
 "cells": [
  {
   "cell_type": "code",
   "execution_count": 2,
   "metadata": {},
   "outputs": [],
   "source": [
    "from benchmark_data import *\n",
    "from Req import * \n",
    "from GraphTheory.benchmarking_christofides import christofides1\n",
    "from ant_colony import ant_colony\n",
    "from sa import sa\n",
    "from time import time\n",
    "trials = 1"
   ]
  },
  {
   "cell_type": "code",
   "execution_count": null,
   "metadata": {},
   "outputs": [],
   "source": [
    "for mat in mat_list[:1]:\n",
    "    times = []\n",
    "    results = []\n",
    "    map = gen_ran(len(mat))\n",
    "    map.D = mat\n",
    "    for i in range(trials):\n",
    "        t0 = time()\n",
    "        result = brute_tour(map).cost()\n",
    "        t1 = time()\n",
    "        times.append(t1-t0)\n",
    "        results.append(result)\n",
    "    print(sum(times)/trials, results)"
   ]
  },
  {
   "cell_type": "code",
   "execution_count": 6,
   "metadata": {},
   "outputs": [
    {
     "output_type": "stream",
     "name": "stdout",
     "text": [
      "0.4196500778198242 [1733]\n"
     ]
    }
   ],
   "source": [
    "for mat in mat_list[:1]:\n",
    "    times = []\n",
    "    results = []\n",
    "    map = gen_ran(len(mat))\n",
    "    map.D = mat\n",
    "    for i in range(trials):\n",
    "        t0 = time()\n",
    "        result = held_karp(map).cost()\n",
    "        t1 = time()\n",
    "        times.append(t1-t0)\n",
    "        results.append(result)\n",
    "    print(sum(times)/trials, results)\n"
   ]
  },
  {
   "cell_type": "code",
   "execution_count": 7,
   "metadata": {},
   "outputs": [
    {
     "output_type": "stream",
     "name": "stdout",
     "text": [
      "6.461143493652344e-05 [2110]\n",
      "0.00025272369384765625 [36388.05923226534]\n",
      "0.0005168914794921875 [9748.94670516838]\n",
      "0.014028072357177734 [709.5216278258143]\n",
      "0.03471112251281738 [11892.888058614652]\n",
      "0.10831904411315918 [3148.109934934404]\n",
      "0.2628912925720215 [2071.8621488390363]\n",
      "1.32173752784729 [3244.8069297875477]\n",
      "1.9007289409637451 [102594.35793052983]\n",
      "3.901592969894409 [117733.69616508145]\n"
     ]
    }
   ],
   "source": [
    "for mat in mat_list:\n",
    "    times = []\n",
    "    results = []\n",
    "    map = gen_ran(len(mat))\n",
    "    map.D = mat\n",
    "    for i in range(trials):\n",
    "        t0 = time()\n",
    "        result = nearest_neighbour(map).cost()\n",
    "        t1 = time()\n",
    "        times.append(t1-t0)\n",
    "        results.append(result)\n",
    "    print(sum(times)/trials, results)"
   ]
  },
  {
   "cell_type": "code",
   "execution_count": 10,
   "metadata": {},
   "outputs": [
    {
     "output_type": "stream",
     "name": "stdout",
     "text": [
      "0.0011055469512939453 [1733]\n",
      "0.007414579391479492 [32161.40297490449]\n",
      "0.02046680450439453 [6770.07692171576]\n",
      "1.6979701519012451 [628.7206044979843]\n",
      "7.116898059844971 [11330.393196425215]\n"
     ]
    }
   ],
   "source": [
    "for mat in mat_list:\n",
    "    times = []\n",
    "    results = []\n",
    "    map = gen_ran(len(mat))\n",
    "    map.D = mat\n",
    "    for i in range(trials):\n",
    "        t0 = time()\n",
    "        result = best_nn(map).cost()\n",
    "        t1 = time()\n",
    "        times.append(t1-t0)\n",
    "        results.append(result)\n",
    "    print(sum(times)/trials, results)"
   ]
  },
  {
   "cell_type": "code",
   "execution_count": 3,
   "metadata": {},
   "outputs": [
    {
     "output_type": "stream",
     "name": "stdout",
     "text": [
      "0.04363608360290527 2145\n",
      "0.06386661529541016 31827.811555692748\n",
      "0.06623077392578125 6758.586205818501\n",
      "0.45848894119262695 612.1855197792014\n",
      "1.3885328769683838 10314.249774868978\n",
      "2.130051851272583 2916.0846625271392\n",
      "3.4170966148376465 1824.7342412062023\n",
      "29.85619854927063 2813.7313098897266\n",
      "59.728346824645996 86748.90475170662\n",
      "110.29957175254822 105264.39875520446\n"
     ]
    }
   ],
   "source": [
    "trials = 1\n",
    "for mat in mat_list:\n",
    "    times = []\n",
    "    map = gen_ran(len(mat))\n",
    "    map.D = mat\n",
    "    for i in range(trials):\n",
    "        t0 = time()\n",
    "        result = christofides1(mat, True)\n",
    "        t1 = time()\n",
    "        times.append(t1-t0)\n",
    "    print(sum(times)/trials, sum(result))\n",
    "\n"
   ]
  },
  {
   "cell_type": "code",
   "execution_count": 13,
   "metadata": {},
   "outputs": [
    {
     "output_type": "stream",
     "name": "stdout",
     "text": [
      "0.0037322044372558594 [1948]\n",
      "0.016282320022583008 [33967.634851134164]\n",
      "0.026305437088012695 [9128.995705703926]\n",
      "0.8070399761199951 [676.2229381020024]\n",
      "2.4265646934509277 [11674.318734230075]\n"
     ]
    }
   ],
   "source": [
    "for mat in mat_list:\n",
    "    times = []\n",
    "    results = []\n",
    "    map = gen_ran(len(mat))\n",
    "    map.D = mat\n",
    "    tour = nearest_neighbour(map)\n",
    "    for i in range(trials):\n",
    "        t0 = time()\n",
    "        result = repeated_2_opt(tour).cost()\n",
    "        t1 = time()\n",
    "        times.append(t1-t0)\n",
    "        results.append(result)\n",
    "    print(sum(times)/trials, results)"
   ]
  },
  {
   "cell_type": "code",
   "execution_count": null,
   "metadata": {},
   "outputs": [],
   "source": []
  }
 ]
}