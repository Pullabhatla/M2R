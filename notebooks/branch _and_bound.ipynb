{
 "metadata": {
  "language_info": {
   "codemirror_mode": {
    "name": "ipython",
    "version": 3
   },
   "file_extension": ".py",
   "mimetype": "text/x-python",
   "name": "python",
   "nbconvert_exporter": "python",
   "pygments_lexer": "ipython3",
   "version": "3.9.1"
  },
  "orig_nbformat": 2,
  "kernelspec": {
   "name": "pythonjvsc74a57bd0c69918641ddc948f60fb0bdccede7f6d9bd18d895f6bef65478a41eec0e5a990",
   "display_name": "Python 3.9.1  ('pop_venv': venv)"
  },
  "metadata": {
   "interpreter": {
    "hash": "c69918641ddc948f60fb0bdccede7f6d9bd18d895f6bef65478a41eec0e5a990"
   }
  }
 },
 "nbformat": 4,
 "nbformat_minor": 2,
 "cells": [
  {
   "cell_type": "code",
   "execution_count": 3,
   "metadata": {},
   "outputs": [],
   "source": [
    "from GraphTheory.tspt import Node, rowreduction, columnreduction, reducedmatrix, calculatecost, tsp\n",
    "import numpy as np "
   ]
  },
  {
   "cell_type": "code",
   "execution_count": 4,
   "metadata": {},
   "outputs": [
    {
     "output_type": "execute_result",
     "data": {
      "text/plain": [
       "([0, 3, 1, 4, 2, 0], 28.0)"
      ]
     },
     "metadata": {},
     "execution_count": 4
    }
   ],
   "source": [
    "adj = np.array([[0, 20, 30, 10, 11], [15, 0, 16, 4, 2], [3, 5, 0, 2, 4], [19, 6, 18, 0, 3], [16, 4 , 7, 16, 0]])\n",
    "tsp(adj)"
   ]
  },
  {
   "cell_type": "code",
   "execution_count": null,
   "metadata": {},
   "outputs": [],
   "source": []
  }
 ]
}