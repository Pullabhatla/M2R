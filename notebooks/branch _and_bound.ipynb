{
 "metadata": {
  "language_info": {
   "codemirror_mode": {
    "name": "ipython",
    "version": 3
   },
   "file_extension": ".py",
   "mimetype": "text/x-python",
   "name": "python",
   "nbconvert_exporter": "python",
   "pygments_lexer": "ipython3",
   "version": "3.9.1"
  },
  "orig_nbformat": 2,
  "kernelspec": {
   "name": "pythonjvsc74a57bd0c69918641ddc948f60fb0bdccede7f6d9bd18d895f6bef65478a41eec0e5a990",
   "display_name": "Python 3.9.1  ('pop_venv': venv)"
  },
  "metadata": {
   "interpreter": {
    "hash": "c69918641ddc948f60fb0bdccede7f6d9bd18d895f6bef65478a41eec0e5a990"
   }
  }
 },
 "nbformat": 4,
 "nbformat_minor": 2,
 "cells": [
  {
   "cell_type": "code",
   "execution_count": 1,
   "metadata": {},
   "outputs": [],
   "source": [
    "from GraphTheory.tspt import Node, rowreduction, columnreduction, reducedmatrix, calculatecost, tsp, children, tspfull\n",
    "from GraphTheory.read import RandomGraph, SymmetricRandomGraph\n",
    "from distance_data import djibouti_adjacencymatrix\n",
    "import numpy as np"
   ]
  },
  {
   "cell_type": "code",
   "execution_count": 3,
   "metadata": {},
   "outputs": [],
   "source": [
    "matrix=np.array([[0, 20, 30, 10, 11], [15, 0, 16, 4, 2], [3, 5, 0, 2, 4], [19, 6, 18, 0, 3], [16, 4 , 7, 16, 0]])\n",
    "a = np.array([[0, 3, 1, 5, 8],[3, 0, 6, 7, 9],[1, 6, 0, 4, 2],[5, 7, 4, 0, 3],[8, 9, 2, 3, 0]]) #16 verified\n",
    "b= np.array([[0, 2, 1, 0],[2, 0, 4, 3],[1, 4, 0, 2],[0, 3, 2, 0]]) #8 verified\n",
    "c=  np.array([[0, 10, 8, 9, 7 ],[10, 0, 10, 5, 6 ],[8, 10, 0, 8, 9 ],[9, 5, 8, 0, 6],[ 7, 6, 9, 6, 0]]) #34 verified"
   ]
  },
  {
   "cell_type": "code",
   "execution_count": 4,
   "metadata": {},
   "outputs": [],
   "source": [
    "m1 = SymmetricRandomGraph().matrix\n",
    "m2 = RandomGraph().matrix"
   ]
  },
  {
   "cell_type": "code",
   "execution_count": 7,
   "metadata": {},
   "outputs": [
    {
     "output_type": "stream",
     "name": "stdout",
     "text": [
      "([0, 1, 3, 4, 2, 0], 16.0)\n([0, 1, 3, 4, 2, 0], 16.0)\n([0, 1, 2, 3, 0], 8.0)\n([0, 1, 2, 3, 0], 8.0)\n([0, 2, 3, 1, 4, 0], 34.0)\n([0, 2, 3, 1, 4, 0], 34.0)\n([0, 3, 1, 4, 2, 0], 28.0)\n([0, 3, 1, 4, 2, 0], 28.0)\n"
     ]
    }
   ],
   "source": [
    "for i in [a, b, c, matrix]:\n",
    "    print(tsp(i))\n",
    "    print(tspfull(i))"
   ]
  },
  {
   "cell_type": "code",
   "execution_count": null,
   "metadata": {},
   "outputs": [],
   "source": []
  }
 ]
}