{
 "metadata": {
  "language_info": {
   "codemirror_mode": {
    "name": "ipython",
    "version": 3
   },
   "file_extension": ".py",
   "mimetype": "text/x-python",
   "name": "python",
   "nbconvert_exporter": "python",
   "pygments_lexer": "ipython3",
   "version": "3.8.5"
  },
  "orig_nbformat": 2,
  "kernelspec": {
   "name": "python3",
   "display_name": "Python 3",
   "language": "python"
  },
  "metadata": {
   "interpreter": {
    "hash": "c69918641ddc948f60fb0bdccede7f6d9bd18d895f6bef65478a41eec0e5a990"
   }
  }
 },
 "nbformat": 4,
 "nbformat_minor": 2,
 "cells": [
  {
   "cell_type": "code",
   "execution_count": 1,
   "metadata": {},
   "outputs": [],
   "source": [
    "from GraphTheory.tspt import Node, rowreduction, columnreduction, reducedmatrix, calculatecost, tspfull, tsp\n",
    "from GraphTheory.read import RandomGraph, SymmetricRandomGraph\n",
    "import numpy as np \n",
    "from Req import gen_ran, held_karp"
   ]
  },
  {
   "cell_type": "code",
   "execution_count": 2,
   "metadata": {},
   "outputs": [
    {
     "output_type": "execute_result",
     "data": {
      "text/plain": [
       "([0, 3, 1, 4, 2, 0], 28.0)"
      ]
     },
     "metadata": {},
     "execution_count": 2
    }
   ],
   "source": [
    "adj = np.array([[0, 20, 30, 10, 11], [15, 0, 16, 4, 2], [3, 5, 0, 2, 4], [19, 6, 18, 0, 3], [16, 4 , 7, 16, 0]])\n",
    "tspfull(adj)"
   ]
  },
  {
   "cell_type": "code",
   "execution_count": 3,
   "metadata": {},
   "outputs": [
    {
     "output_type": "stream",
     "name": "stdout",
     "text": [
      "Held-Karp: ([0, 7, 8, 6, 1, 2, 4, 3, 5, 9], 153)\nBranch-and-Bound: ([0, 4, 3, 5, 2, 8, 6, 1, 7, 9, 0], 157.0)\n"
     ]
    }
   ],
   "source": [
    "n = 10\n",
    "map = gen_ran(n)\n",
    "map.D = RandomGraph(100, n).matrix\n",
    "karp_tour = held_karp(map)\n",
    "print(f'Held-Karp: {(karp_tour.cycle, karp_tour.cost())}')\n",
    "print(f'Branch-and-Bound: {tsp(map.D)}')\n"
   ]
  },
  {
   "cell_type": "code",
   "execution_count": null,
   "metadata": {},
   "outputs": [],
   "source": []
  }
 ]
}