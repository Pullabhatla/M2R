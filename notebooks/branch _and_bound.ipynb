{
 "metadata": {
  "language_info": {
   "codemirror_mode": {
    "name": "ipython",
    "version": 3
   },
   "file_extension": ".py",
   "mimetype": "text/x-python",
   "name": "python",
   "nbconvert_exporter": "python",
   "pygments_lexer": "ipython3",
   "version": "3.9.1"
  },
  "orig_nbformat": 2,
  "kernelspec": {
   "name": "python3",
   "display_name": "Python 3.9.1  ('pop_venv': venv)"
  },
  "metadata": {
   "interpreter": {
    "hash": "c69918641ddc948f60fb0bdccede7f6d9bd18d895f6bef65478a41eec0e5a990"
   }
  },
  "interpreter": {
   "hash": "c69918641ddc948f60fb0bdccede7f6d9bd18d895f6bef65478a41eec0e5a990"
  }
 },
 "nbformat": 4,
 "nbformat_minor": 2,
 "cells": [
  {
   "cell_type": "code",
   "execution_count": 1,
   "metadata": {},
   "outputs": [
    {
     "output_type": "error",
     "ename": "ModuleNotFoundError",
     "evalue": "No module named 'Req'",
     "traceback": [
      "\u001b[1;31m---------------------------------------------------------------------------\u001b[0m",
      "\u001b[1;31mModuleNotFoundError\u001b[0m                       Traceback (most recent call last)",
      "\u001b[1;32m<ipython-input-1-c4eacc293068>\u001b[0m in \u001b[0;36m<module>\u001b[1;34m\u001b[0m\n\u001b[0;32m      1\u001b[0m \u001b[1;32mfrom\u001b[0m \u001b[0mGraphTheory\u001b[0m\u001b[1;33m.\u001b[0m\u001b[0mtspt\u001b[0m \u001b[1;32mimport\u001b[0m \u001b[0mNode\u001b[0m\u001b[1;33m,\u001b[0m \u001b[0mrowreduction\u001b[0m\u001b[1;33m,\u001b[0m \u001b[0mcolumnreduction\u001b[0m\u001b[1;33m,\u001b[0m \u001b[0mreducedmatrix\u001b[0m\u001b[1;33m,\u001b[0m \u001b[0mcalculatecost\u001b[0m\u001b[1;33m,\u001b[0m \u001b[0mtsp\u001b[0m\u001b[1;33m,\u001b[0m \u001b[0mchildren\u001b[0m\u001b[1;33m,\u001b[0m \u001b[0mtspfull\u001b[0m\u001b[1;33m\u001b[0m\u001b[1;33m\u001b[0m\u001b[0m\n\u001b[0;32m      2\u001b[0m \u001b[1;32mfrom\u001b[0m \u001b[0mGraphTheory\u001b[0m\u001b[1;33m.\u001b[0m\u001b[0mread\u001b[0m \u001b[1;32mimport\u001b[0m \u001b[0mRandomGraph\u001b[0m\u001b[1;33m,\u001b[0m \u001b[0mSymmetricRandomGraph\u001b[0m\u001b[1;33m\u001b[0m\u001b[1;33m\u001b[0m\u001b[0m\n\u001b[1;32m----> 3\u001b[1;33m \u001b[1;32mfrom\u001b[0m \u001b[0mReq\u001b[0m \u001b[1;32mimport\u001b[0m \u001b[0mgen_ran\u001b[0m\u001b[1;33m\u001b[0m\u001b[1;33m\u001b[0m\u001b[0m\n\u001b[0m\u001b[0;32m      4\u001b[0m \u001b[1;32mfrom\u001b[0m \u001b[0mtime\u001b[0m \u001b[1;32mimport\u001b[0m \u001b[0mtime\u001b[0m\u001b[1;33m\u001b[0m\u001b[1;33m\u001b[0m\u001b[0m\n\u001b[0;32m      5\u001b[0m \u001b[1;32mfrom\u001b[0m \u001b[0mdistance_data\u001b[0m \u001b[1;32mimport\u001b[0m \u001b[0mgrid04\u001b[0m\u001b[1;33m,\u001b[0m \u001b[0mkn57\u001b[0m\u001b[1;33m,\u001b[0m \u001b[0muk12\u001b[0m\u001b[1;33m,\u001b[0m \u001b[0mwg22\u001b[0m\u001b[1;33m,\u001b[0m \u001b[0msgb128\u001b[0m\u001b[1;33m,\u001b[0m \u001b[0mwg59\u001b[0m\u001b[1;33m\u001b[0m\u001b[1;33m\u001b[0m\u001b[0m\n",
      "\u001b[1;31mModuleNotFoundError\u001b[0m: No module named 'Req'"
     ]
    }
   ],
   "source": [
    "from GraphTheory.tspt import Node, rowreduction, columnreduction, reducedmatrix, calculatecost, tsp, children, tspfull\n",
    "from GraphTheory.read import RandomGraph, SymmetricRandomGraph\n",
    "from Req import gen_ran\n",
    "from time import time \n",
    "from distance_data import grid04, kn57, uk12, wg22, sgb128, wg59\n",
    "from distance_data import djibouti_adjacencymatrix, usa_adjacencymatrix, ws_adjacencymatrix  \n",
    "import numpy as np\n",
    "# number of cities respectively 38, 48, 29\n",
    "kn_57 = kn57.to_numpy()\n",
    "uk_12 = uk12.to_numpy()\n",
    "wg_22 = wg22.to_numpy()\n",
    "sgb_128 = sgb128.to_numpy()\n",
    "wg_59 = wg59.to_numpy()\n",
    "data_sets_collected = [uk_12, wg_22, kn_57, wg_59, sgb_128]\n",
    "data_sets_collected1 = [djibouti_adjacencymatrix, usa_adjacencymatrix, ws_adjacencymatrix]\n",
    "lis = ['uk_12', 'wg_22', 'kn_57', 'wg_59', 'sgb_128']\n",
    "lis_cities = [12, 22, 57, 59, 128]\n",
    "lis1 = ['djibouti',  'usa', 'wsahara']\n",
    "lis1_cities = [38, 48, 29]\n",
    "# in data_distances_matrices.ipynb seen that all the adjaceny matrices in "
   ]
  },
  {
   "cell_type": "code",
   "execution_count": null,
   "metadata": {},
   "outputs": [],
   "source": [
    "m1 = SymmetricRandomGraph().matrix\n",
    "m2 = RandomGraph().matrix"
   ]
  },
  {
   "cell_type": "code",
   "execution_count": null,
   "metadata": {},
   "outputs": [],
   "source": [
    "print(tsp(m1))\n",
    "print(tspfull(m1))"
   ]
  },
  {
   "cell_type": "code",
   "execution_count": null,
   "metadata": {},
   "outputs": [],
   "source": [
    "print(tsp(m2))\n",
    "print(tspfull(m2))"
   ]
  },
  {
   "cell_type": "code",
   "execution_count": 10,
   "metadata": {},
   "outputs": [
    {
     "output_type": "error",
     "ename": "SyntaxError",
     "evalue": "EOL while scanning string literal (<ipython-input-10-fb6f4a7147c3>, line 5)",
     "traceback": [
      "\u001b[1;36m  File \u001b[1;32m\"<ipython-input-10-fb6f4a7147c3>\"\u001b[1;36m, line \u001b[1;32m5\u001b[0m\n\u001b[1;33m    print(f'Branch-and-Bound:{tspfull(map.D)})\u001b[0m\n\u001b[1;37m                                              ^\u001b[0m\n\u001b[1;31mSyntaxError\u001b[0m\u001b[1;31m:\u001b[0m EOL while scanning string literal\n"
     ]
    }
   ],
   "source": [
    "map = gen_ran(10)\n",
    "map.D = RandomGraph(100,10).matrix\n",
    "karp_tour = held_karp(map)\n",
    "print(f'Held-Karp: {(karp_tour.cycle, karp_tour.cost())}')\n",
    "print(f'Branch-and-Bound:{tspfull(map.D)}')\n"
   ]
  },
  {
   "cell_type": "code",
   "execution_count": null,
   "metadata": {},
   "outputs": [],
   "source": [
    "matrix=np.array([[0, 20, 30, 10, 11], [15, 0, 16, 4, 2], [3, 5, 0, 2, 4], [19, 6, 18, 0, 3], [16, 4 , 7, 16, 0]])\n",
    "a = np.array([[0, 3, 1, 5, 8],[3, 0, 6, 7, 9],[1, 6, 0, 4, 2],[5, 7, 4, 0, 3],[8, 9, 2, 3, 0]]) #16 verified\n",
    "b= np.array([[0, 2, 1, 0],[2, 0, 4, 3],[1, 4, 0, 2],[0, 3, 2, 0]]) #8 verified\n",
    "c=  np.array([[0, 10, 8, 9, 7 ],[10, 0, 10, 5, 6 ],[8, 10, 0, 8, 9 ],[9, 5, 8, 0, 6],[ 7, 6, 9, 6, 0]]) #34 verified"
   ]
  },
  {
   "cell_type": "code",
   "execution_count": null,
   "metadata": {},
   "outputs": [],
   "source": [
    "for i in [a, b, c, matrix]:\n",
    "    print(tsp(i))\n",
    "    print(tspfull(i))"
   ]
  },
  {
   "cell_type": "code",
   "execution_count": null,
   "metadata": {},
   "outputs": [],
   "source": [
    "list_of_all_cities = lis + lis1\n",
    "list_of_number_of_cities = lis_cities + lis1_cities\n",
    "list_of_allmatrices = data_sets_collected + data_sets_collected1\n",
    "times = []\n",
    "outputs = []\n",
    "for i in [0,1,2,5,6,7]:\n",
    "    t0 = time()\n",
    "    outputs.append(tsp(list_of_allmatrices[i]))\n",
    "    t1 = time()\n",
    "    times.append(t1-t0)"
   ]
  },
  {
   "cell_type": "code",
   "execution_count": null,
   "metadata": {},
   "outputs": [],
   "source": [
    "print(times)\n",
    "print(outputs)"
   ]
  },
  {
   "cell_type": "code",
   "execution_count": null,
   "metadata": {},
   "outputs": [],
   "source": []
  }
 ]
}