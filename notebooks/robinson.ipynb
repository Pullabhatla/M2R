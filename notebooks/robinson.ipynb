{
 "metadata": {
  "language_info": {
   "codemirror_mode": {
    "name": "ipython",
    "version": 3
   },
   "file_extension": ".py",
   "mimetype": "text/x-python",
   "name": "python",
   "nbconvert_exporter": "python",
   "pygments_lexer": "ipython3",
   "version": "3.8.5"
  },
  "orig_nbformat": 2,
  "kernelspec": {
   "name": "pythonjvsc74a57bd031860a5a2966026df1622493a09a9f4bd2d12321f15fb70109b2a609690b4574",
   "display_name": "Python 3.8.5  ('M2R_venv': venv)"
  },
  "metadata": {
   "interpreter": {
    "hash": "31860a5a2966026df1622493a09a9f4bd2d12321f15fb70109b2a609690b4574"
   }
  }
 },
 "nbformat": 4,
 "nbformat_minor": 2,
 "cells": [
  {
   "cell_type": "code",
   "execution_count": 7,
   "metadata": {},
   "outputs": [],
   "source": [
    "from Req import Circuit, System, robinson_solver, gen_ran\n",
    "import numpy as np"
   ]
  },
  {
   "source": [
    "### We test Robinson's algorithm on the numerical example shown in \"On the Hamiltonian Game (A Travelling Salesman Problem).\"\n",
    "\n",
    "We symbolically create a map of 6 elements. The physical positions of these element will not have any bearing on the cost matrix as we choose to overwrite it with Robinson's numerical example."
   ],
   "cell_type": "markdown",
   "metadata": {}
  },
  {
   "cell_type": "code",
   "execution_count": 8,
   "metadata": {},
   "outputs": [],
   "source": [
    "map = gen_ran(6)"
   ]
  },
  {
   "cell_type": "code",
   "execution_count": 9,
   "metadata": {},
   "outputs": [],
   "source": [
    "map.D = np.array([[0, 1, 4, 2, 8, 7],\n",
    "                  [6, 0, 5, 2, 1, 9],\n",
    "                  [4, 8, 0, 7, 2, 6],\n",
    "                  [5, 5, 5, 0, 4, 8],\n",
    "                  [6, 1, 5, 7, 0, 4],\n",
    "                  [3, 9, 1, 2, 6, 0]])"
   ]
  },
  {
   "source": [
    "We create the same system of circuits Robinson chooses. We also find that the cost of this system is 21 units."
   ],
   "cell_type": "markdown",
   "metadata": {}
  },
  {
   "cell_type": "code",
   "execution_count": 10,
   "metadata": {},
   "outputs": [
    {
     "output_type": "stream",
     "name": "stdout",
     "text": [
      "The system [(0, 1, 4, 2), (3, 5)] has a cost of 21.\n"
     ]
    }
   ],
   "source": [
    "sys = System([Circuit((0, 1, 4, 2), map), Circuit((3, 5), map)])\n",
    "print(f'The system {sys} has a cost of {sys.cost()}.')"
   ]
  },
  {
   "source": [
    "Applying Robinson's algorithm until reaching a system with no circuits of negative s-length, we find that this is consistent with the solution to the numerical example."
   ],
   "cell_type": "markdown",
   "metadata": {}
  },
  {
   "cell_type": "code",
   "execution_count": 11,
   "metadata": {},
   "outputs": [
    {
     "output_type": "stream",
     "name": "stdout",
     "text": [
      "The optimal system is [(0, 1, 3), (2, 4, 5)] with a cost of 15.\n"
     ]
    }
   ],
   "source": [
    "sys1 = robinson_solver(sys)\n",
    "print(f'The optimal system is {sys1} with a cost of {sys1.cost()}.')"
   ]
  }
 ]
}