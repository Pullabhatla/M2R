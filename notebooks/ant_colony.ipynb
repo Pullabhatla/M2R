{
 "metadata": {
  "language_info": {
   "codemirror_mode": {
    "name": "ipython",
    "version": 3
   },
   "file_extension": ".py",
   "mimetype": "text/x-python",
   "name": "python",
   "nbconvert_exporter": "python",
   "pygments_lexer": "ipython3",
   "version": "3.8.5"
  },
  "orig_nbformat": 2,
  "kernelspec": {
   "name": "python3",
   "display_name": "Python 3",
   "language": "python"
  }
 },
 "nbformat": 4,
 "nbformat_minor": 2,
 "cells": [
  {
   "source": [
    "import numpy as np\n",
    "from Req import Hamiltonian\n",
    "x_list = np.random.randint(0,100,10)\n",
    "y_list = np.random.randint(0,100,10)\n",
    "points = [(a,b) for a,b in zip(x_list,y_list)]\n",
    "\n",
    "print(points)\n",
    "import sys\n",
    "import os\n",
    "sys.path.append(os.getcwd())\n",
    "from scipy.spatial.distance import euclidean\n",
    "from ant_colony.ant_colony import Ant_colony\n",
    "from Req.req import Map\n",
    "\n",
    "map1 = Map(points)\n",
    "path, dist = Ant_colony(map1, 2, 3, 15, 0.3, 15, 200)"
   ],
   "cell_type": "code",
   "metadata": {},
   "execution_count": 8,
   "outputs": [
    {
     "output_type": "stream",
     "name": "stdout",
     "text": [
      "[(28, 84), (76, 74), (97, 23), (33, 70), (90, 66), (43, 65), (55, 19), (42, 25), (82, 84), (11, 72)]\n",
      "/home/spull/M2R/M2R/ant_colony/ant_colony.py:29: RuntimeWarning: divide by zero encountered in true_divide\n",
      "  Eta = 1/map.D\n",
      "[ 7.  8. 10.  1.  4.  6.  2.  9.  5.  3.]\n",
      "iterating 200 times optimized solution 268.7966049731144\n"
     ]
    }
   ]
  },
  {
   "cell_type": "code",
   "execution_count": 9,
   "metadata": {},
   "outputs": [
    {
     "output_type": "execute_result",
     "data": {
      "text/plain": [
       "array([[4., 1., 8., ..., 7., 6., 2.],\n",
       "       [4., 1., 8., ..., 7., 6., 2.],\n",
       "       [4., 1., 8., ..., 7., 6., 2.],\n",
       "       ...,\n",
       "       [6., 7., 9., ..., 8., 4., 2.],\n",
       "       [6., 7., 9., ..., 8., 4., 2.],\n",
       "       [6., 7., 9., ..., 8., 4., 2.]])"
      ]
     },
     "metadata": {},
     "execution_count": 9
    }
   ],
   "source": [
    "path"
   ]
  },
  {
   "cell_type": "code",
   "execution_count": 10,
   "metadata": {},
   "outputs": [],
   "source": [
    "path = path[-1]"
   ]
  },
  {
   "cell_type": "code",
   "execution_count": 11,
   "metadata": {},
   "outputs": [
    {
     "output_type": "execute_result",
     "data": {
      "text/plain": [
       "array([6., 7., 9., 0., 3., 5., 1., 8., 4., 2.])"
      ]
     },
     "metadata": {},
     "execution_count": 11
    }
   ],
   "source": [
    "path"
   ]
  },
  {
   "cell_type": "code",
   "execution_count": 12,
   "metadata": {},
   "outputs": [],
   "source": [
    "path = list(path)"
   ]
  },
  {
   "cell_type": "code",
   "execution_count": 13,
   "metadata": {},
   "outputs": [
    {
     "output_type": "execute_result",
     "data": {
      "text/plain": [
       "[6.0, 7.0, 9.0, 0.0, 3.0, 5.0, 1.0, 8.0, 4.0, 2.0]"
      ]
     },
     "metadata": {},
     "execution_count": 13
    }
   ],
   "source": [
    "path"
   ]
  },
  {
   "cell_type": "code",
   "execution_count": 15,
   "metadata": {},
   "outputs": [],
   "source": [
    "path = [int(i) for i in path]\n",
    "tour = Hamiltonian(path, map1)"
   ]
  },
  {
   "cell_type": "code",
   "execution_count": 16,
   "metadata": {},
   "outputs": [
    {
     "output_type": "display_data",
     "data": {
      "text/plain": "<Figure size 432x288 with 1 Axes>",
      "image/svg+xml": "<?xml version=\"1.0\" encoding=\"utf-8\" standalone=\"no\"?>\n<!DOCTYPE svg PUBLIC \"-//W3C//DTD SVG 1.1//EN\"\n  \"http://www.w3.org/Graphics/SVG/1.1/DTD/svg11.dtd\">\n<svg height=\"233.35402pt\" version=\"1.1\" viewBox=\"0 0 303.323972 233.35402\" width=\"303.323972pt\" xmlns=\"http://www.w3.org/2000/svg\" xmlns:xlink=\"http://www.w3.org/1999/xlink\">\n <metadata>\n  <rdf:RDF xmlns:cc=\"http://creativecommons.org/ns#\" xmlns:dc=\"http://purl.org/dc/elements/1.1/\" xmlns:rdf=\"http://www.w3.org/1999/02/22-rdf-syntax-ns#\">\n   <cc:Work>\n    <dc:type rdf:resource=\"http://purl.org/dc/dcmitype/StillImage\"/>\n    <dc:date>2021-06-07T13:18:47.259650</dc:date>\n    <dc:format>image/svg+xml</dc:format>\n    <dc:creator>\n     <cc:Agent>\n      <dc:title>Matplotlib v3.4.2, https://matplotlib.org/</dc:title>\n     </cc:Agent>\n    </dc:creator>\n   </cc:Work>\n  </rdf:RDF>\n </metadata>\n <defs>\n  <style type=\"text/css\">*{stroke-linecap:butt;stroke-linejoin:round;}</style>\n </defs>\n <g id=\"figure_1\">\n  <g id=\"patch_1\">\n   <path d=\"M 0 233.35402 \nL 303.323972 233.35402 \nL 303.323972 0 \nL 0 0 \nz\n\" style=\"fill:none;\"/>\n  </g>\n  <g id=\"axes_1\">\n   <g id=\"PathCollection_1\">\n    <defs>\n     <path d=\"M 0 3.535534 \nC 0.937635 3.535534 1.836992 3.163008 2.5 2.5 \nC 3.163008 1.836992 3.535534 0.937635 3.535534 0 \nC 3.535534 -0.937635 3.163008 -1.836992 2.5 -2.5 \nC 1.836992 -3.163008 0.937635 -3.535534 0 -3.535534 \nC -0.937635 -3.535534 -1.836992 -3.163008 -2.5 -2.5 \nC -3.163008 -1.836992 -3.535534 -0.937635 -3.535534 0 \nC -3.535534 0.937635 -3.163008 1.836992 -2.5 2.5 \nC -1.836992 3.163008 -0.937635 3.535534 0 3.535534 \nz\n\" id=\"me8af0934b5\" style=\"stroke:#1f77b4;\"/>\n    </defs>\n    <g clip-path=\"url(#paef3d1c9e1)\">\n     <use style=\"fill:#1f77b4;stroke:#1f77b4;\" x=\"154.086042\" xlink:href=\"#me8af0934b5\" y=\"216.270384\"/>\n     <use style=\"fill:#1f77b4;stroke:#1f77b4;\" x=\"114.551497\" xlink:href=\"#me8af0934b5\" y=\"198.02367\"/>\n     <use style=\"fill:#1f77b4;stroke:#1f77b4;\" x=\"20.276811\" xlink:href=\"#me8af0934b5\" y=\"55.091083\"/>\n     <use style=\"fill:#1f77b4;stroke:#1f77b4;\" x=\"71.975832\" xlink:href=\"#me8af0934b5\" y=\"18.597656\"/>\n     <use style=\"fill:#1f77b4;stroke:#1f77b4;\" x=\"87.181427\" xlink:href=\"#me8af0934b5\" y=\"61.173321\"/>\n     <use style=\"fill:#1f77b4;stroke:#1f77b4;\" x=\"117.592615\" xlink:href=\"#me8af0934b5\" y=\"76.378915\"/>\n     <use style=\"fill:#1f77b4;stroke:#1f77b4;\" x=\"217.949538\" xlink:href=\"#me8af0934b5\" y=\"49.008845\"/>\n     <use style=\"fill:#1f77b4;stroke:#1f77b4;\" x=\"236.196252\" xlink:href=\"#me8af0934b5\" y=\"18.597656\"/>\n     <use style=\"fill:#1f77b4;stroke:#1f77b4;\" x=\"260.525203\" xlink:href=\"#me8af0934b5\" y=\"73.337796\"/>\n     <use style=\"fill:#1f77b4;stroke:#1f77b4;\" x=\"281.813035\" xlink:href=\"#me8af0934b5\" y=\"204.105908\"/>\n     <use style=\"fill:#1f77b4;stroke:#1f77b4;\" x=\"154.086042\" xlink:href=\"#me8af0934b5\" y=\"216.270384\"/>\n    </g>\n   </g>\n   <g id=\"Quiver_1\">\n    <path clip-path=\"url(#paef3d1c9e1)\" d=\"M 153.603807 217.315226 \nL 123.472846 203.408629 \nL 123.553219 205.98055 \nL 114.551497 198.02367 \nL 126.44663 199.711493 \nL 124.437317 201.318944 \nL 154.568277 215.225541 \nL 153.603807 217.315226 \n\" style=\"fill:#008000;\"/>\n    <path clip-path=\"url(#paef3d1c9e1)\" d=\"M 113.590874 198.657272 \nL 25.018607 64.370287 \nL 23.730964 66.598114 \nL 20.276811 55.091083 \nL 29.494699 62.796502 \nL 26.939852 63.103083 \nL 115.512119 197.390068 \nL 113.590874 198.657272 \n\" style=\"fill:#008000;\"/>\n    <path clip-path=\"url(#paef3d1c9e1)\" d=\"M 19.613188 54.150949 \nL 62.851008 23.630135 \nL 60.583627 22.413492 \nL 71.975832 18.597656 \nL 64.565369 28.054293 \nL 64.178255 25.510402 \nL 20.940435 56.031216 \nL 19.613188 54.150949 \n\" style=\"fill:#008000;\"/>\n    <path clip-path=\"url(#paef3d1c9e1)\" d=\"M 73.059551 18.210614 \nL 84.781765 51.032813 \nL 86.562159 49.17501 \nL 87.181427 61.173321 \nL 80.059849 51.497264 \nL 82.614328 51.806898 \nL 70.892114 18.984699 \nL 73.059551 18.210614 \n\" style=\"fill:#008000;\"/>\n    <path clip-path=\"url(#paef3d1c9e1)\" d=\"M 87.696062 60.14405 \nL 108.843816 70.717927 \nL 108.843816 68.144751 \nL 117.592615 76.378915 \nL 105.756005 74.320374 \nL 107.814546 72.776468 \nL 86.666791 62.202591 \nL 87.696062 60.14405 \n\" style=\"fill:#008000;\"/>\n    <path clip-path=\"url(#paef3d1c9e1)\" d=\"M 117.289831 75.268704 \nL 207.654854 50.623697 \nL 205.939074 48.70606 \nL 217.949538 49.008845 \nL 207.755783 55.367326 \nL 208.260424 52.844119 \nL 117.8954 77.489126 \nL 117.289831 75.268704 \n\" style=\"fill:#008000;\"/>\n    <path clip-path=\"url(#paef3d1c9e1)\" d=\"M 216.96277 48.416784 \nL 229.880936 26.886508 \nL 227.315339 26.689154 \nL 236.196252 18.597656 \nL 233.235948 30.241519 \nL 231.854472 28.070629 \nL 218.936306 49.600906 \nL 216.96277 48.416784 \n\" style=\"fill:#008000;\"/>\n    <path clip-path=\"url(#paef3d1c9e1)\" d=\"M 237.247829 18.130289 \nL 257.370471 63.406234 \nL 259.006258 61.419921 \nL 260.525203 73.337796 \nL 252.696795 64.224127 \nL 255.267317 64.340969 \nL 235.144675 19.065024 \nL 237.247829 18.130289 \n\" style=\"fill:#008000;\"/>\n    <path clip-path=\"url(#paef3d1c9e1)\" d=\"M 261.661011 73.152897 \nL 281.284752 193.698738 \nL 283.371469 192.193132 \nL 281.813035 204.105908 \nL 276.556622 193.302526 \nL 279.013136 194.068536 \nL 259.389395 73.522695 \nL 261.661011 73.152897 \n\" style=\"fill:#008000;\"/>\n    <path clip-path=\"url(#paef3d1c9e1)\" d=\"M 281.922137 205.251484 \nL 164.505326 216.434037 \nL 165.869107 218.616086 \nL 154.086042 216.270384 \nL 165.214492 211.742632 \nL 164.287121 214.142886 \nL 281.703933 202.960332 \nL 281.922137 205.251484 \n\" style=\"fill:#008000;\"/>\n   </g>\n   <g id=\"line2d_1\">\n    <defs>\n     <path d=\"M 0 -6 \nL -1.347084 -1.854102 \nL -5.706339 -1.854102 \nL -2.179628 0.708204 \nL -3.526712 4.854102 \nL -0 2.291796 \nL 3.526712 4.854102 \nL 2.179628 0.708204 \nL 5.706339 -1.854102 \nL 1.347084 -1.854102 \nz\n\" id=\"m4cffad75be\" style=\"stroke:#ff0000;stroke-linejoin:bevel;\"/>\n    </defs>\n    <g clip-path=\"url(#paef3d1c9e1)\">\n     <use style=\"fill:#ff0000;stroke:#ff0000;stroke-linejoin:bevel;\" x=\"154.086042\" xlink:href=\"#m4cffad75be\" y=\"216.270384\"/>\n    </g>\n   </g>\n   <g id=\"text_1\">\n    <!--  6 -->\n    <g transform=\"translate(154.086042 216.270384)scale(0.15 -0.15)\">\n     <defs>\n      <path id=\"DejaVuSans-20\" transform=\"scale(0.015625)\"/>\n      <path d=\"M 2113 2584 \nQ 1688 2584 1439 2293 \nQ 1191 2003 1191 1497 \nQ 1191 994 1439 701 \nQ 1688 409 2113 409 \nQ 2538 409 2786 701 \nQ 3034 994 3034 1497 \nQ 3034 2003 2786 2293 \nQ 2538 2584 2113 2584 \nz\nM 3366 4563 \nL 3366 3988 \nQ 3128 4100 2886 4159 \nQ 2644 4219 2406 4219 \nQ 1781 4219 1451 3797 \nQ 1122 3375 1075 2522 \nQ 1259 2794 1537 2939 \nQ 1816 3084 2150 3084 \nQ 2853 3084 3261 2657 \nQ 3669 2231 3669 1497 \nQ 3669 778 3244 343 \nQ 2819 -91 2113 -91 \nQ 1303 -91 875 529 \nQ 447 1150 447 2328 \nQ 447 3434 972 4092 \nQ 1497 4750 2381 4750 \nQ 2619 4750 2861 4703 \nQ 3103 4656 3366 4563 \nz\n\" id=\"DejaVuSans-36\" transform=\"scale(0.015625)\"/>\n     </defs>\n     <use xlink:href=\"#DejaVuSans-20\"/>\n     <use x=\"31.787109\" xlink:href=\"#DejaVuSans-36\"/>\n    </g>\n   </g>\n   <g id=\"text_2\">\n    <!--  7 -->\n    <g transform=\"translate(114.551497 198.02367)scale(0.15 -0.15)\">\n     <defs>\n      <path d=\"M 525 4666 \nL 3525 4666 \nL 3525 4397 \nL 1831 0 \nL 1172 0 \nL 2766 4134 \nL 525 4134 \nL 525 4666 \nz\n\" id=\"DejaVuSans-37\" transform=\"scale(0.015625)\"/>\n     </defs>\n     <use xlink:href=\"#DejaVuSans-20\"/>\n     <use x=\"31.787109\" xlink:href=\"#DejaVuSans-37\"/>\n    </g>\n   </g>\n   <g id=\"text_3\">\n    <!--  9 -->\n    <g transform=\"translate(20.276811 55.091083)scale(0.15 -0.15)\">\n     <defs>\n      <path d=\"M 703 97 \nL 703 672 \nQ 941 559 1184 500 \nQ 1428 441 1663 441 \nQ 2288 441 2617 861 \nQ 2947 1281 2994 2138 \nQ 2813 1869 2534 1725 \nQ 2256 1581 1919 1581 \nQ 1219 1581 811 2004 \nQ 403 2428 403 3163 \nQ 403 3881 828 4315 \nQ 1253 4750 1959 4750 \nQ 2769 4750 3195 4129 \nQ 3622 3509 3622 2328 \nQ 3622 1225 3098 567 \nQ 2575 -91 1691 -91 \nQ 1453 -91 1209 -44 \nQ 966 3 703 97 \nz\nM 1959 2075 \nQ 2384 2075 2632 2365 \nQ 2881 2656 2881 3163 \nQ 2881 3666 2632 3958 \nQ 2384 4250 1959 4250 \nQ 1534 4250 1286 3958 \nQ 1038 3666 1038 3163 \nQ 1038 2656 1286 2365 \nQ 1534 2075 1959 2075 \nz\n\" id=\"DejaVuSans-39\" transform=\"scale(0.015625)\"/>\n     </defs>\n     <use xlink:href=\"#DejaVuSans-20\"/>\n     <use x=\"31.787109\" xlink:href=\"#DejaVuSans-39\"/>\n    </g>\n   </g>\n   <g id=\"text_4\">\n    <!--  0 -->\n    <g transform=\"translate(71.975832 18.597656)scale(0.15 -0.15)\">\n     <defs>\n      <path d=\"M 2034 4250 \nQ 1547 4250 1301 3770 \nQ 1056 3291 1056 2328 \nQ 1056 1369 1301 889 \nQ 1547 409 2034 409 \nQ 2525 409 2770 889 \nQ 3016 1369 3016 2328 \nQ 3016 3291 2770 3770 \nQ 2525 4250 2034 4250 \nz\nM 2034 4750 \nQ 2819 4750 3233 4129 \nQ 3647 3509 3647 2328 \nQ 3647 1150 3233 529 \nQ 2819 -91 2034 -91 \nQ 1250 -91 836 529 \nQ 422 1150 422 2328 \nQ 422 3509 836 4129 \nQ 1250 4750 2034 4750 \nz\n\" id=\"DejaVuSans-30\" transform=\"scale(0.015625)\"/>\n     </defs>\n     <use xlink:href=\"#DejaVuSans-20\"/>\n     <use x=\"31.787109\" xlink:href=\"#DejaVuSans-30\"/>\n    </g>\n   </g>\n   <g id=\"text_5\">\n    <!--  3 -->\n    <g transform=\"translate(87.181427 61.173321)scale(0.15 -0.15)\">\n     <defs>\n      <path d=\"M 2597 2516 \nQ 3050 2419 3304 2112 \nQ 3559 1806 3559 1356 \nQ 3559 666 3084 287 \nQ 2609 -91 1734 -91 \nQ 1441 -91 1130 -33 \nQ 819 25 488 141 \nL 488 750 \nQ 750 597 1062 519 \nQ 1375 441 1716 441 \nQ 2309 441 2620 675 \nQ 2931 909 2931 1356 \nQ 2931 1769 2642 2001 \nQ 2353 2234 1838 2234 \nL 1294 2234 \nL 1294 2753 \nL 1863 2753 \nQ 2328 2753 2575 2939 \nQ 2822 3125 2822 3475 \nQ 2822 3834 2567 4026 \nQ 2313 4219 1838 4219 \nQ 1578 4219 1281 4162 \nQ 984 4106 628 3988 \nL 628 4550 \nQ 988 4650 1302 4700 \nQ 1616 4750 1894 4750 \nQ 2613 4750 3031 4423 \nQ 3450 4097 3450 3541 \nQ 3450 3153 3228 2886 \nQ 3006 2619 2597 2516 \nz\n\" id=\"DejaVuSans-33\" transform=\"scale(0.015625)\"/>\n     </defs>\n     <use xlink:href=\"#DejaVuSans-20\"/>\n     <use x=\"31.787109\" xlink:href=\"#DejaVuSans-33\"/>\n    </g>\n   </g>\n   <g id=\"text_6\">\n    <!--  5 -->\n    <g transform=\"translate(117.592615 76.378915)scale(0.15 -0.15)\">\n     <defs>\n      <path d=\"M 691 4666 \nL 3169 4666 \nL 3169 4134 \nL 1269 4134 \nL 1269 2991 \nQ 1406 3038 1543 3061 \nQ 1681 3084 1819 3084 \nQ 2600 3084 3056 2656 \nQ 3513 2228 3513 1497 \nQ 3513 744 3044 326 \nQ 2575 -91 1722 -91 \nQ 1428 -91 1123 -41 \nQ 819 9 494 109 \nL 494 744 \nQ 775 591 1075 516 \nQ 1375 441 1709 441 \nQ 2250 441 2565 725 \nQ 2881 1009 2881 1497 \nQ 2881 1984 2565 2268 \nQ 2250 2553 1709 2553 \nQ 1456 2553 1204 2497 \nQ 953 2441 691 2322 \nL 691 4666 \nz\n\" id=\"DejaVuSans-35\" transform=\"scale(0.015625)\"/>\n     </defs>\n     <use xlink:href=\"#DejaVuSans-20\"/>\n     <use x=\"31.787109\" xlink:href=\"#DejaVuSans-35\"/>\n    </g>\n   </g>\n   <g id=\"text_7\">\n    <!--  1 -->\n    <g transform=\"translate(217.949538 49.008845)scale(0.15 -0.15)\">\n     <defs>\n      <path d=\"M 794 531 \nL 1825 531 \nL 1825 4091 \nL 703 3866 \nL 703 4441 \nL 1819 4666 \nL 2450 4666 \nL 2450 531 \nL 3481 531 \nL 3481 0 \nL 794 0 \nL 794 531 \nz\n\" id=\"DejaVuSans-31\" transform=\"scale(0.015625)\"/>\n     </defs>\n     <use xlink:href=\"#DejaVuSans-20\"/>\n     <use x=\"31.787109\" xlink:href=\"#DejaVuSans-31\"/>\n    </g>\n   </g>\n   <g id=\"text_8\">\n    <!--  8 -->\n    <g transform=\"translate(236.196252 18.597656)scale(0.15 -0.15)\">\n     <defs>\n      <path d=\"M 2034 2216 \nQ 1584 2216 1326 1975 \nQ 1069 1734 1069 1313 \nQ 1069 891 1326 650 \nQ 1584 409 2034 409 \nQ 2484 409 2743 651 \nQ 3003 894 3003 1313 \nQ 3003 1734 2745 1975 \nQ 2488 2216 2034 2216 \nz\nM 1403 2484 \nQ 997 2584 770 2862 \nQ 544 3141 544 3541 \nQ 544 4100 942 4425 \nQ 1341 4750 2034 4750 \nQ 2731 4750 3128 4425 \nQ 3525 4100 3525 3541 \nQ 3525 3141 3298 2862 \nQ 3072 2584 2669 2484 \nQ 3125 2378 3379 2068 \nQ 3634 1759 3634 1313 \nQ 3634 634 3220 271 \nQ 2806 -91 2034 -91 \nQ 1263 -91 848 271 \nQ 434 634 434 1313 \nQ 434 1759 690 2068 \nQ 947 2378 1403 2484 \nz\nM 1172 3481 \nQ 1172 3119 1398 2916 \nQ 1625 2713 2034 2713 \nQ 2441 2713 2670 2916 \nQ 2900 3119 2900 3481 \nQ 2900 3844 2670 4047 \nQ 2441 4250 2034 4250 \nQ 1625 4250 1398 4047 \nQ 1172 3844 1172 3481 \nz\n\" id=\"DejaVuSans-38\" transform=\"scale(0.015625)\"/>\n     </defs>\n     <use xlink:href=\"#DejaVuSans-20\"/>\n     <use x=\"31.787109\" xlink:href=\"#DejaVuSans-38\"/>\n    </g>\n   </g>\n   <g id=\"text_9\">\n    <!--  4 -->\n    <g transform=\"translate(260.525203 73.337796)scale(0.15 -0.15)\">\n     <defs>\n      <path d=\"M 2419 4116 \nL 825 1625 \nL 2419 1625 \nL 2419 4116 \nz\nM 2253 4666 \nL 3047 4666 \nL 3047 1625 \nL 3713 1625 \nL 3713 1100 \nL 3047 1100 \nL 3047 0 \nL 2419 0 \nL 2419 1100 \nL 313 1100 \nL 313 1709 \nL 2253 4666 \nz\n\" id=\"DejaVuSans-34\" transform=\"scale(0.015625)\"/>\n     </defs>\n     <use xlink:href=\"#DejaVuSans-20\"/>\n     <use x=\"31.787109\" xlink:href=\"#DejaVuSans-34\"/>\n    </g>\n   </g>\n   <g id=\"text_10\">\n    <!--  2 -->\n    <g transform=\"translate(281.813035 204.105908)scale(0.15 -0.15)\">\n     <defs>\n      <path d=\"M 1228 531 \nL 3431 531 \nL 3431 0 \nL 469 0 \nL 469 531 \nQ 828 903 1448 1529 \nQ 2069 2156 2228 2338 \nQ 2531 2678 2651 2914 \nQ 2772 3150 2772 3378 \nQ 2772 3750 2511 3984 \nQ 2250 4219 1831 4219 \nQ 1534 4219 1204 4116 \nQ 875 4013 500 3803 \nL 500 4441 \nQ 881 4594 1212 4672 \nQ 1544 4750 1819 4750 \nQ 2544 4750 2975 4387 \nQ 3406 4025 3406 3419 \nQ 3406 3131 3298 2873 \nQ 3191 2616 2906 2266 \nQ 2828 2175 2409 1742 \nQ 1991 1309 1228 531 \nz\n\" id=\"DejaVuSans-32\" transform=\"scale(0.015625)\"/>\n     </defs>\n     <use xlink:href=\"#DejaVuSans-20\"/>\n     <use x=\"31.787109\" xlink:href=\"#DejaVuSans-32\"/>\n    </g>\n   </g>\n  </g>\n </g>\n <defs>\n  <clipPath id=\"paef3d1c9e1\">\n   <rect height=\"217.44\" width=\"287.689846\" x=\"7.2\" y=\"8.71402\"/>\n  </clipPath>\n </defs>\n</svg>\n",
      "image/png": "[encoded data removed]"
     },
     "metadata": {
      "needs_background": "light"
     }
    }
   ],
   "source": [
    "tour.show2d()"
   ]
  },
  {
   "cell_type": "code",
   "execution_count": null,
   "metadata": {},
   "outputs": [],
   "source": []
  }
 ]
}