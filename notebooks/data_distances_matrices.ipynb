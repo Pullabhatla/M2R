{
 "metadata": {
  "language_info": {
   "codemirror_mode": {
    "name": "ipython",
    "version": 3
   },
   "file_extension": ".py",
   "mimetype": "text/x-python",
   "name": "python",
   "nbconvert_exporter": "python",
   "pygments_lexer": "ipython3",
   "version": "3.9.1"
  },
  "orig_nbformat": 2,
  "kernelspec": {
   "name": "pythonjvsc74a57bd0c69918641ddc948f60fb0bdccede7f6d9bd18d895f6bef65478a41eec0e5a990",
   "display_name": "Python 3.9.1  ('pop_venv': venv)"
  },
  "metadata": {
   "interpreter": {
    "hash": "c69918641ddc948f60fb0bdccede7f6d9bd18d895f6bef65478a41eec0e5a990"
   }
  }
 },
 "nbformat": 4,
 "nbformat_minor": 2,
 "cells": [
  {
   "cell_type": "code",
   "execution_count": 25,
   "metadata": {},
   "outputs": [],
   "source": [
    "from GraphTheory.read import GraphMatrix, Graph\n",
    "from distance_data import grid04, ha30, kn57, uk12, wg22\n",
    "import numpy as np \n",
    "from scipy.sparse import csr_matrix\n",
    "# the following descriptions are taken from the data source\n",
    "# source: \"https://people.sc.fsu.edu/~jburkardt/datasets/cities/cities.html\"\n",
    "# grid04 4 \"cities\" on a simple grid.\n",
    "# ha30 the airline distances, in hundreds of miles, between 30 international cities. For this problem, the spherical geometry is significantly different from the planar approximation.\n",
    "# kn57  the distance in (integer) miles between 57 cities. Since these are \"highway miles\", the distances are difficult to use to construct an exact planar map.\n",
    "# uk12 12 cities, with integer distances representing the travel time, in minutes, between pairs of cities.\n",
    "# wg22 22 cities in West Germany and comes from Spaeth."
   ]
  },
  {
   "cell_type": "code",
   "execution_count": 26,
   "metadata": {},
   "outputs": [
    {
     "output_type": "execute_result",
     "data": {
      "text/plain": [
       "     30  Unnamed: 1  Unnamed: 2  Unnamed: 3  Unnamed: 4  Unnamed: 5  \\\n",
       "0     0          39          22          59          54          33   \n",
       "1    39           0          20          20          81           8   \n",
       "2    22          20           0          39          74          18   \n",
       "3    59          20          39           0          93          27   \n",
       "4    54          81          74          93           0          73   \n",
       "5    33           8          18          27          73           0   \n",
       "6    57          49          60          51          43          45   \n",
       "7    32          64          44          81          56          61   \n",
       "8    89          63          71          48         104          71   \n",
       "9    73          84          73          80          76          88   \n",
       "10   29          10          11          30          76           8   \n",
       "11   46          61          46          69          77          63   \n",
       "12   16          25           6          45          69          22   \n",
       "13   83          49          61          32         111          57   \n",
       "14  120          81          99          61          72          87   \n",
       "15   45          81          61          97          46          77   \n",
       "16   24          58          37          75          56          54   \n",
       "17   32          16          10          32          84          18   \n",
       "18   36          72          51          89          49          68   \n",
       "19   25          60          40          78          53          56   \n",
       "20   38          78          59          97          33          71   \n",
       "21   16          24           5          44          69          20   \n",
       "22   43          69          62          83          12          61   \n",
       "23   21          18           7          38          69          13   \n",
       "24   50          75          57          84          64          75   \n",
       "25   57          88          78         100           7          80   \n",
       "26   46          68          51          77          69          68   \n",
       "27   72          44          51          31         122          52   \n",
       "28  121          83         100          63          73          90   \n",
       "29   73          52          56          42         114          60   \n",
       "\n",
       "    Unnamed: 6  Unnamed: 7  Unnamed: 8  Unnamed: 9  ...  Unnamed: 20  \\\n",
       "0           57          32          89          73  ...           38   \n",
       "1           49          64          63          84  ...           78   \n",
       "2           60          44          71          73  ...           59   \n",
       "3           51          81          48          80  ...           97   \n",
       "4           43          56         104          76  ...           33   \n",
       "5           45          61          71          88  ...           71   \n",
       "6            0          85          88         115  ...           70   \n",
       "7           85           0          74          43  ...           23   \n",
       "8           88          74           0          38  ...           90   \n",
       "9          115          43          38           0  ...           53   \n",
       "10          52          55          69          81  ...           68   \n",
       "11         103          23          51          28  ...           45   \n",
       "12          60          40          75          72  ...           53   \n",
       "13          75          81          16          53  ...          103   \n",
       "14          64          97          35          55  ...           90   \n",
       "15          85          17          75          38  ...           15   \n",
       "16          79           8          77          49  ...           25   \n",
       "17          63          50          61          70  ...           67   \n",
       "18          83           8          77          42  ...           16   \n",
       "19          78           7          80          50  ...           22   \n",
       "20          70          23          90          53  ...            0   \n",
       "21          58          41          76          75  ...           54   \n",
       "22          38          53         116          83  ...           33   \n",
       "23          52          48          76          80  ...           59   \n",
       "24         103          19          58          24  ...           33   \n",
       "25          49          53          98          69  ...           31   \n",
       "26         102          17          57          27  ...           37   \n",
       "27          81          70          19          49  ...           93   \n",
       "28          69          92          33          51  ...           88   \n",
       "29          92          63          16          39  ...           84   \n",
       "\n",
       "    Unnamed: 21  Unnamed: 22  Unnamed: 23  Unnamed: 24  Unnamed: 25  \\\n",
       "0            16           43           21           50           57   \n",
       "1            24           69           18           75           88   \n",
       "2             5           62            7           57           78   \n",
       "3            44           83           38           84          100   \n",
       "4            69           12           69           64            7   \n",
       "5            20           61           13           75           80   \n",
       "6            58           38           52          103           49   \n",
       "7            41           53           48           19           53   \n",
       "8            76          116           76           58           98   \n",
       "9            75           83           80           24           69   \n",
       "10           14           64            9           67           81   \n",
       "11           47           76           53           15           73   \n",
       "12            2           57            9           54           72   \n",
       "13           67          113           65           70          109   \n",
       "14          104           82           99           79           70   \n",
       "15           57           48           64           19           41   \n",
       "16           34           51           41           25           54   \n",
       "17           16           72           15           59           88   \n",
       "18           48           48           55           19           45   \n",
       "19           36           48           43           26           51   \n",
       "20           54           33           59           33           31   \n",
       "21            0           57            7           56           72   \n",
       "22           57            0           57           66           18   \n",
       "23            7           57            0           63           74   \n",
       "24           56           66           63            0           59   \n",
       "25           72           18           74           59            0   \n",
       "26           50           69           57            7           64   \n",
       "27           57          113           57           61          117   \n",
       "28          105           84          101           74           71   \n",
       "29           61          115           61           52          107   \n",
       "\n",
       "    Unnamed: 26  Unnamed: 27  Unnamed: 28  Unnamed: 29  \n",
       "0            46           72          121           73  \n",
       "1            68           44           83           52  \n",
       "2            51           51          100           56  \n",
       "3            77           31           63           42  \n",
       "4            69          122           73          114  \n",
       "5            68           52           90           60  \n",
       "6           102           81           69           92  \n",
       "7            17           70           92           63  \n",
       "8            57           19           33           16  \n",
       "9            27           49           51           39  \n",
       "10           61           49           93           56  \n",
       "11            9           49           77           40  \n",
       "12           48           57          106           60  \n",
       "13           67           12           39           19  \n",
       "14           82           50            4           51  \n",
       "15           23           80           81           70  \n",
       "16           23           70          100           65  \n",
       "17           52           42           90           47  \n",
       "18           21           77           89           69  \n",
       "19           24           73          100           68  \n",
       "20           37           93           88           84  \n",
       "21           50           57          105           61  \n",
       "22           69          113           84          115  \n",
       "23           57           57          101           61  \n",
       "24            7           61           74           52  \n",
       "25           64          117           71          107  \n",
       "26            0           57           77           48  \n",
       "27           57            0           49           11  \n",
       "28           77           49            0           48  \n",
       "29           48           11           48            0  \n",
       "\n",
       "[30 rows x 30 columns]"
      ],
      "text/html": "<div>\n<style scoped>\n    .dataframe tbody tr th:only-of-type {\n        vertical-align: middle;\n    }\n\n    .dataframe tbody tr th {\n        vertical-align: top;\n    }\n\n    .dataframe thead th {\n        text-align: right;\n    }\n</style>\n<table border=\"1\" class=\"dataframe\">\n  <thead>\n    <tr style=\"text-align: right;\">\n      <th></th>\n      <th>30</th>\n      <th>Unnamed: 1</th>\n      <th>Unnamed: 2</th>\n      <th>Unnamed: 3</th>\n      <th>Unnamed: 4</th>\n      <th>Unnamed: 5</th>\n      <th>Unnamed: 6</th>\n      <th>Unnamed: 7</th>\n      <th>Unnamed: 8</th>\n      <th>Unnamed: 9</th>\n      <th>...</th>\n      <th>Unnamed: 20</th>\n      <th>Unnamed: 21</th>\n      <th>Unnamed: 22</th>\n      <th>Unnamed: 23</th>\n      <th>Unnamed: 24</th>\n      <th>Unnamed: 25</th>\n      <th>Unnamed: 26</th>\n      <th>Unnamed: 27</th>\n      <th>Unnamed: 28</th>\n      <th>Unnamed: 29</th>\n    </tr>\n  </thead>\n  <tbody>\n    <tr>\n      <th>0</th>\n      <td>0</td>\n      <td>39</td>\n      <td>22</td>\n      <td>59</td>\n      <td>54</td>\n      <td>33</td>\n      <td>57</td>\n      <td>32</td>\n      <td>89</td>\n      <td>73</td>\n      <td>...</td>\n      <td>38</td>\n      <td>16</td>\n      <td>43</td>\n      <td>21</td>\n      <td>50</td>\n      <td>57</td>\n      <td>46</td>\n      <td>72</td>\n      <td>121</td>\n      <td>73</td>\n    </tr>\n    <tr>\n      <th>1</th>\n      <td>39</td>\n      <td>0</td>\n      <td>20</td>\n      <td>20</td>\n      <td>81</td>\n      <td>8</td>\n      <td>49</td>\n      <td>64</td>\n      <td>63</td>\n      <td>84</td>\n      <td>...</td>\n      <td>78</td>\n      <td>24</td>\n      <td>69</td>\n      <td>18</td>\n      <td>75</td>\n      <td>88</td>\n      <td>68</td>\n      <td>44</td>\n      <td>83</td>\n      <td>52</td>\n    </tr>\n    <tr>\n      <th>2</th>\n      <td>22</td>\n      <td>20</td>\n      <td>0</td>\n      <td>39</td>\n      <td>74</td>\n      <td>18</td>\n      <td>60</td>\n      <td>44</td>\n      <td>71</td>\n      <td>73</td>\n      <td>...</td>\n      <td>59</td>\n      <td>5</td>\n      <td>62</td>\n      <td>7</td>\n      <td>57</td>\n      <td>78</td>\n      <td>51</td>\n      <td>51</td>\n      <td>100</td>\n      <td>56</td>\n    </tr>\n    <tr>\n      <th>3</th>\n      <td>59</td>\n      <td>20</td>\n      <td>39</td>\n      <td>0</td>\n      <td>93</td>\n      <td>27</td>\n      <td>51</td>\n      <td>81</td>\n      <td>48</td>\n      <td>80</td>\n      <td>...</td>\n      <td>97</td>\n      <td>44</td>\n      <td>83</td>\n      <td>38</td>\n      <td>84</td>\n      <td>100</td>\n      <td>77</td>\n      <td>31</td>\n      <td>63</td>\n      <td>42</td>\n    </tr>\n    <tr>\n      <th>4</th>\n      <td>54</td>\n      <td>81</td>\n      <td>74</td>\n      <td>93</td>\n      <td>0</td>\n      <td>73</td>\n      <td>43</td>\n      <td>56</td>\n      <td>104</td>\n      <td>76</td>\n      <td>...</td>\n      <td>33</td>\n      <td>69</td>\n      <td>12</td>\n      <td>69</td>\n      <td>64</td>\n      <td>7</td>\n      <td>69</td>\n      <td>122</td>\n      <td>73</td>\n      <td>114</td>\n    </tr>\n    <tr>\n      <th>5</th>\n      <td>33</td>\n      <td>8</td>\n      <td>18</td>\n      <td>27</td>\n      <td>73</td>\n      <td>0</td>\n      <td>45</td>\n      <td>61</td>\n      <td>71</td>\n      <td>88</td>\n      <td>...</td>\n      <td>71</td>\n      <td>20</td>\n      <td>61</td>\n      <td>13</td>\n      <td>75</td>\n      <td>80</td>\n      <td>68</td>\n      <td>52</td>\n      <td>90</td>\n      <td>60</td>\n    </tr>\n    <tr>\n      <th>6</th>\n      <td>57</td>\n      <td>49</td>\n      <td>60</td>\n      <td>51</td>\n      <td>43</td>\n      <td>45</td>\n      <td>0</td>\n      <td>85</td>\n      <td>88</td>\n      <td>115</td>\n      <td>...</td>\n      <td>70</td>\n      <td>58</td>\n      <td>38</td>\n      <td>52</td>\n      <td>103</td>\n      <td>49</td>\n      <td>102</td>\n      <td>81</td>\n      <td>69</td>\n      <td>92</td>\n    </tr>\n    <tr>\n      <th>7</th>\n      <td>32</td>\n      <td>64</td>\n      <td>44</td>\n      <td>81</td>\n      <td>56</td>\n      <td>61</td>\n      <td>85</td>\n      <td>0</td>\n      <td>74</td>\n      <td>43</td>\n      <td>...</td>\n      <td>23</td>\n      <td>41</td>\n      <td>53</td>\n      <td>48</td>\n      <td>19</td>\n      <td>53</td>\n      <td>17</td>\n      <td>70</td>\n      <td>92</td>\n      <td>63</td>\n    </tr>\n    <tr>\n      <th>8</th>\n      <td>89</td>\n      <td>63</td>\n      <td>71</td>\n      <td>48</td>\n      <td>104</td>\n      <td>71</td>\n      <td>88</td>\n      <td>74</td>\n      <td>0</td>\n      <td>38</td>\n      <td>...</td>\n      <td>90</td>\n      <td>76</td>\n      <td>116</td>\n      <td>76</td>\n      <td>58</td>\n      <td>98</td>\n      <td>57</td>\n      <td>19</td>\n      <td>33</td>\n      <td>16</td>\n    </tr>\n    <tr>\n      <th>9</th>\n      <td>73</td>\n      <td>84</td>\n      <td>73</td>\n      <td>80</td>\n      <td>76</td>\n      <td>88</td>\n      <td>115</td>\n      <td>43</td>\n      <td>38</td>\n      <td>0</td>\n      <td>...</td>\n      <td>53</td>\n      <td>75</td>\n      <td>83</td>\n      <td>80</td>\n      <td>24</td>\n      <td>69</td>\n      <td>27</td>\n      <td>49</td>\n      <td>51</td>\n      <td>39</td>\n    </tr>\n    <tr>\n      <th>10</th>\n      <td>29</td>\n      <td>10</td>\n      <td>11</td>\n      <td>30</td>\n      <td>76</td>\n      <td>8</td>\n      <td>52</td>\n      <td>55</td>\n      <td>69</td>\n      <td>81</td>\n      <td>...</td>\n      <td>68</td>\n      <td>14</td>\n      <td>64</td>\n      <td>9</td>\n      <td>67</td>\n      <td>81</td>\n      <td>61</td>\n      <td>49</td>\n      <td>93</td>\n      <td>56</td>\n    </tr>\n    <tr>\n      <th>11</th>\n      <td>46</td>\n      <td>61</td>\n      <td>46</td>\n      <td>69</td>\n      <td>77</td>\n      <td>63</td>\n      <td>103</td>\n      <td>23</td>\n      <td>51</td>\n      <td>28</td>\n      <td>...</td>\n      <td>45</td>\n      <td>47</td>\n      <td>76</td>\n      <td>53</td>\n      <td>15</td>\n      <td>73</td>\n      <td>9</td>\n      <td>49</td>\n      <td>77</td>\n      <td>40</td>\n    </tr>\n    <tr>\n      <th>12</th>\n      <td>16</td>\n      <td>25</td>\n      <td>6</td>\n      <td>45</td>\n      <td>69</td>\n      <td>22</td>\n      <td>60</td>\n      <td>40</td>\n      <td>75</td>\n      <td>72</td>\n      <td>...</td>\n      <td>53</td>\n      <td>2</td>\n      <td>57</td>\n      <td>9</td>\n      <td>54</td>\n      <td>72</td>\n      <td>48</td>\n      <td>57</td>\n      <td>106</td>\n      <td>60</td>\n    </tr>\n    <tr>\n      <th>13</th>\n      <td>83</td>\n      <td>49</td>\n      <td>61</td>\n      <td>32</td>\n      <td>111</td>\n      <td>57</td>\n      <td>75</td>\n      <td>81</td>\n      <td>16</td>\n      <td>53</td>\n      <td>...</td>\n      <td>103</td>\n      <td>67</td>\n      <td>113</td>\n      <td>65</td>\n      <td>70</td>\n      <td>109</td>\n      <td>67</td>\n      <td>12</td>\n      <td>39</td>\n      <td>19</td>\n    </tr>\n    <tr>\n      <th>14</th>\n      <td>120</td>\n      <td>81</td>\n      <td>99</td>\n      <td>61</td>\n      <td>72</td>\n      <td>87</td>\n      <td>64</td>\n      <td>97</td>\n      <td>35</td>\n      <td>55</td>\n      <td>...</td>\n      <td>90</td>\n      <td>104</td>\n      <td>82</td>\n      <td>99</td>\n      <td>79</td>\n      <td>70</td>\n      <td>82</td>\n      <td>50</td>\n      <td>4</td>\n      <td>51</td>\n    </tr>\n    <tr>\n      <th>15</th>\n      <td>45</td>\n      <td>81</td>\n      <td>61</td>\n      <td>97</td>\n      <td>46</td>\n      <td>77</td>\n      <td>85</td>\n      <td>17</td>\n      <td>75</td>\n      <td>38</td>\n      <td>...</td>\n      <td>15</td>\n      <td>57</td>\n      <td>48</td>\n      <td>64</td>\n      <td>19</td>\n      <td>41</td>\n      <td>23</td>\n      <td>80</td>\n      <td>81</td>\n      <td>70</td>\n    </tr>\n    <tr>\n      <th>16</th>\n      <td>24</td>\n      <td>58</td>\n      <td>37</td>\n      <td>75</td>\n      <td>56</td>\n      <td>54</td>\n      <td>79</td>\n      <td>8</td>\n      <td>77</td>\n      <td>49</td>\n      <td>...</td>\n      <td>25</td>\n      <td>34</td>\n      <td>51</td>\n      <td>41</td>\n      <td>25</td>\n      <td>54</td>\n      <td>23</td>\n      <td>70</td>\n      <td>100</td>\n      <td>65</td>\n    </tr>\n    <tr>\n      <th>17</th>\n      <td>32</td>\n      <td>16</td>\n      <td>10</td>\n      <td>32</td>\n      <td>84</td>\n      <td>18</td>\n      <td>63</td>\n      <td>50</td>\n      <td>61</td>\n      <td>70</td>\n      <td>...</td>\n      <td>67</td>\n      <td>16</td>\n      <td>72</td>\n      <td>15</td>\n      <td>59</td>\n      <td>88</td>\n      <td>52</td>\n      <td>42</td>\n      <td>90</td>\n      <td>47</td>\n    </tr>\n    <tr>\n      <th>18</th>\n      <td>36</td>\n      <td>72</td>\n      <td>51</td>\n      <td>89</td>\n      <td>49</td>\n      <td>68</td>\n      <td>83</td>\n      <td>8</td>\n      <td>77</td>\n      <td>42</td>\n      <td>...</td>\n      <td>16</td>\n      <td>48</td>\n      <td>48</td>\n      <td>55</td>\n      <td>19</td>\n      <td>45</td>\n      <td>21</td>\n      <td>77</td>\n      <td>89</td>\n      <td>69</td>\n    </tr>\n    <tr>\n      <th>19</th>\n      <td>25</td>\n      <td>60</td>\n      <td>40</td>\n      <td>78</td>\n      <td>53</td>\n      <td>56</td>\n      <td>78</td>\n      <td>7</td>\n      <td>80</td>\n      <td>50</td>\n      <td>...</td>\n      <td>22</td>\n      <td>36</td>\n      <td>48</td>\n      <td>43</td>\n      <td>26</td>\n      <td>51</td>\n      <td>24</td>\n      <td>73</td>\n      <td>100</td>\n      <td>68</td>\n    </tr>\n    <tr>\n      <th>20</th>\n      <td>38</td>\n      <td>78</td>\n      <td>59</td>\n      <td>97</td>\n      <td>33</td>\n      <td>71</td>\n      <td>70</td>\n      <td>23</td>\n      <td>90</td>\n      <td>53</td>\n      <td>...</td>\n      <td>0</td>\n      <td>54</td>\n      <td>33</td>\n      <td>59</td>\n      <td>33</td>\n      <td>31</td>\n      <td>37</td>\n      <td>93</td>\n      <td>88</td>\n      <td>84</td>\n    </tr>\n    <tr>\n      <th>21</th>\n      <td>16</td>\n      <td>24</td>\n      <td>5</td>\n      <td>44</td>\n      <td>69</td>\n      <td>20</td>\n      <td>58</td>\n      <td>41</td>\n      <td>76</td>\n      <td>75</td>\n      <td>...</td>\n      <td>54</td>\n      <td>0</td>\n      <td>57</td>\n      <td>7</td>\n      <td>56</td>\n      <td>72</td>\n      <td>50</td>\n      <td>57</td>\n      <td>105</td>\n      <td>61</td>\n    </tr>\n    <tr>\n      <th>22</th>\n      <td>43</td>\n      <td>69</td>\n      <td>62</td>\n      <td>83</td>\n      <td>12</td>\n      <td>61</td>\n      <td>38</td>\n      <td>53</td>\n      <td>116</td>\n      <td>83</td>\n      <td>...</td>\n      <td>33</td>\n      <td>57</td>\n      <td>0</td>\n      <td>57</td>\n      <td>66</td>\n      <td>18</td>\n      <td>69</td>\n      <td>113</td>\n      <td>84</td>\n      <td>115</td>\n    </tr>\n    <tr>\n      <th>23</th>\n      <td>21</td>\n      <td>18</td>\n      <td>7</td>\n      <td>38</td>\n      <td>69</td>\n      <td>13</td>\n      <td>52</td>\n      <td>48</td>\n      <td>76</td>\n      <td>80</td>\n      <td>...</td>\n      <td>59</td>\n      <td>7</td>\n      <td>57</td>\n      <td>0</td>\n      <td>63</td>\n      <td>74</td>\n      <td>57</td>\n      <td>57</td>\n      <td>101</td>\n      <td>61</td>\n    </tr>\n    <tr>\n      <th>24</th>\n      <td>50</td>\n      <td>75</td>\n      <td>57</td>\n      <td>84</td>\n      <td>64</td>\n      <td>75</td>\n      <td>103</td>\n      <td>19</td>\n      <td>58</td>\n      <td>24</td>\n      <td>...</td>\n      <td>33</td>\n      <td>56</td>\n      <td>66</td>\n      <td>63</td>\n      <td>0</td>\n      <td>59</td>\n      <td>7</td>\n      <td>61</td>\n      <td>74</td>\n      <td>52</td>\n    </tr>\n    <tr>\n      <th>25</th>\n      <td>57</td>\n      <td>88</td>\n      <td>78</td>\n      <td>100</td>\n      <td>7</td>\n      <td>80</td>\n      <td>49</td>\n      <td>53</td>\n      <td>98</td>\n      <td>69</td>\n      <td>...</td>\n      <td>31</td>\n      <td>72</td>\n      <td>18</td>\n      <td>74</td>\n      <td>59</td>\n      <td>0</td>\n      <td>64</td>\n      <td>117</td>\n      <td>71</td>\n      <td>107</td>\n    </tr>\n    <tr>\n      <th>26</th>\n      <td>46</td>\n      <td>68</td>\n      <td>51</td>\n      <td>77</td>\n      <td>69</td>\n      <td>68</td>\n      <td>102</td>\n      <td>17</td>\n      <td>57</td>\n      <td>27</td>\n      <td>...</td>\n      <td>37</td>\n      <td>50</td>\n      <td>69</td>\n      <td>57</td>\n      <td>7</td>\n      <td>64</td>\n      <td>0</td>\n      <td>57</td>\n      <td>77</td>\n      <td>48</td>\n    </tr>\n    <tr>\n      <th>27</th>\n      <td>72</td>\n      <td>44</td>\n      <td>51</td>\n      <td>31</td>\n      <td>122</td>\n      <td>52</td>\n      <td>81</td>\n      <td>70</td>\n      <td>19</td>\n      <td>49</td>\n      <td>...</td>\n      <td>93</td>\n      <td>57</td>\n      <td>113</td>\n      <td>57</td>\n      <td>61</td>\n      <td>117</td>\n      <td>57</td>\n      <td>0</td>\n      <td>49</td>\n      <td>11</td>\n    </tr>\n    <tr>\n      <th>28</th>\n      <td>121</td>\n      <td>83</td>\n      <td>100</td>\n      <td>63</td>\n      <td>73</td>\n      <td>90</td>\n      <td>69</td>\n      <td>92</td>\n      <td>33</td>\n      <td>51</td>\n      <td>...</td>\n      <td>88</td>\n      <td>105</td>\n      <td>84</td>\n      <td>101</td>\n      <td>74</td>\n      <td>71</td>\n      <td>77</td>\n      <td>49</td>\n      <td>0</td>\n      <td>48</td>\n    </tr>\n    <tr>\n      <th>29</th>\n      <td>73</td>\n      <td>52</td>\n      <td>56</td>\n      <td>42</td>\n      <td>114</td>\n      <td>60</td>\n      <td>92</td>\n      <td>63</td>\n      <td>16</td>\n      <td>39</td>\n      <td>...</td>\n      <td>84</td>\n      <td>61</td>\n      <td>115</td>\n      <td>61</td>\n      <td>52</td>\n      <td>107</td>\n      <td>48</td>\n      <td>11</td>\n      <td>48</td>\n      <td>0</td>\n    </tr>\n  </tbody>\n</table>\n<p>30 rows × 30 columns</p>\n</div>"
     },
     "metadata": {},
     "execution_count": 26
    }
   ],
   "source": [
    "ha30  # first column name is the  number of cities"
   ]
  },
  {
   "cell_type": "code",
   "execution_count": 27,
   "metadata": {},
   "outputs": [],
   "source": [
    "ha_30 = ha30.to_numpy()\n",
    "kn_57 = kn57.to_numpy()\n",
    "uk_12 = uk12.to_numpy()\n",
    "wg_22 = wg22.to_numpy()\n",
    "data_sets_collected = [ha_30, kn_57, uk_12, wg_22]  # all the matrices collected\n",
    "# print(ha_30)  # can uncomment to see the full matrix printed."
   ]
  },
  {
   "cell_type": "code",
   "execution_count": 28,
   "metadata": {},
   "outputs": [
    {
     "output_type": "stream",
     "name": "stdout",
     "text": [
      "[30, 57, 12, 22]\n[30, 57, 12, 22]\n[(30, 30), (57, 57), (12, 12), (22, 22)]\n"
     ]
    }
   ],
   "source": [
    "print([len(i) for i in data_sets_collected])  # the number of rows\n",
    "print([len(i[0]) for i in data_sets_collected])  # the number of columns\n",
    "print([i.shape for i in data_sets_collected])  # check if they are square and as expected"
   ]
  },
  {
   "cell_type": "code",
   "execution_count": 29,
   "metadata": {},
   "outputs": [
    {
     "output_type": "stream",
     "name": "stdout",
     "text": [
      "[False, True, False, True]\n"
     ]
    }
   ],
   "source": [
    "# check symmetric \n",
    "print([np.allclose(i, i.T) for i in data_sets_collected])"
   ]
  },
  {
   "cell_type": "code",
   "execution_count": 30,
   "metadata": {},
   "outputs": [
    {
     "output_type": "stream",
     "name": "stdout",
     "text": [
      "  (3, 17)\t-1\n  (17, 3)\t1\n  (6, 11)\t1\n  (11, 6)\t-1\n"
     ]
    }
   ],
   "source": [
    "# if u expect symmetry try this to see how badly its not symmetric\n",
    "matrix_differnce = [data_sets_collected[i]-data_sets_collected[i].T for i in [0,2]]\n",
    "# print(matrix_differnce[0])  # gives full matrix hard to find which are different\n",
    "# print(matrix_differnce[1])\n",
    "# use csr_matrix to generate sparse matrices to get a more manageable input\n",
    "print(csr_matrix(matrix_differnce[0]))\n",
    "print(csr_matrix(matrix_differnce[1]))\n",
    "# for the above ha_30 and uk_12 1 value differed by 1 which is probably a typo  but i cant change the data set so should just work around it "
   ]
  },
  {
   "cell_type": "code",
   "execution_count": 31,
   "metadata": {},
   "outputs": [
    {
     "output_type": "execute_result",
     "data": {
      "text/plain": [
       "[<GraphTheory.read.Graph at 0x270e7bc0340>,\n",
       " <GraphTheory.read.Graph at 0x270c72484f0>,\n",
       " <GraphTheory.read.Graph at 0x270c723d9a0>,\n",
       " <GraphTheory.read.Graph at 0x270e7bc0d90>]"
      ]
     },
     "metadata": {},
     "execution_count": 31
    }
   ],
   "source": [
    "GM = [GraphMatrix(i) for i in data_sets_collected]  # this the Graph matrix class applied\n",
    "[i.G for i in GM]  # this now allows access to the Graph object versions of the matrices"
   ]
  },
  {
   "cell_type": "code",
   "execution_count": 32,
   "metadata": {},
   "outputs": [],
   "source": [
    "from GraphTheory.read import GraphMatrix, Graph\n",
    "from distance_data import djibouti, usa, wsahara, coord_to_matrix\n",
    "d_array = djibouti.to_numpy()\n",
    "u_array = usa.to_numpy()\n",
    "ws_array = wsahara.to_numpy()\n",
    "# need to input x and y coord the right way \n",
    "djibouti_adjacencymatrix = coord_to_matrix(d_array[:,1], d_array[:,0])  # djabouti data file is arrange yx\n",
    "usa_adjacencymatrix = coord_to_matrix(u_array[:,0], u_array[:,1])  # usa data file is arranged xy\n",
    "ws_adjacencymatrix = coord_to_matrix(ws_array[:,1], ws_array[:,0])  # wsahara data dile is arranged yx"
   ]
  },
  {
   "cell_type": "code",
   "execution_count": 33,
   "metadata": {},
   "outputs": [
    {
     "output_type": "stream",
     "name": "stdout",
     "text": [
      "[[   0.          290.99301545  794.00183127 ... 1852.35373049\n  1624.75194088 1858.09261272]\n [ 290.99301545    0.          512.54097969 ... 1598.94551098\n  1412.88752368 1649.18902517]\n [ 794.00183127  512.54097969    0.         ... 1331.29480435\n  1288.37008374 1514.19696932]\n ...\n [1852.35373049 1598.94551098 1331.29480435 ...    0.\n   440.55907953  444.22745405]\n [1624.75194088 1412.88752368 1288.37008374 ...  440.55907953\n     0.          236.48918264]\n [1858.09261272 1649.18902517 1514.19696932 ...  444.22745405\n   236.48918264    0.        ]]\n"
     ]
    }
   ],
   "source": [
    "print(djibouti_adjacencymatrix)"
   ]
  },
  {
   "cell_type": "code",
   "execution_count": 34,
   "metadata": {},
   "outputs": [],
   "source": [
    "#using the above functions in that order have created importable matrices\n",
    "from distance_data import djibouti_adjacencymatrix, usa_adjacencymatrix, ws_adjacencymatrix"
   ]
  },
  {
   "cell_type": "code",
   "execution_count": 35,
   "metadata": {},
   "outputs": [
    {
     "output_type": "execute_result",
     "data": {
      "text/plain": [
       "array([[   0.        ,  290.99301545,  794.00183127, ..., 1852.35373049,\n",
       "        1624.75194088, 1858.09261272],\n",
       "       [ 290.99301545,    0.        ,  512.54097969, ..., 1598.94551098,\n",
       "        1412.88752368, 1649.18902517],\n",
       "       [ 794.00183127,  512.54097969,    0.        , ..., 1331.29480435,\n",
       "        1288.37008374, 1514.19696932],\n",
       "       ...,\n",
       "       [1852.35373049, 1598.94551098, 1331.29480435, ...,    0.        ,\n",
       "         440.55907953,  444.22745405],\n",
       "       [1624.75194088, 1412.88752368, 1288.37008374, ...,  440.55907953,\n",
       "           0.        ,  236.48918264],\n",
       "       [1858.09261272, 1649.18902517, 1514.19696932, ...,  444.22745405,\n",
       "         236.48918264,    0.        ]])"
      ]
     },
     "metadata": {},
     "execution_count": 35
    }
   ],
   "source": [
    "djibouti_adjacencymatrix\n",
    "# this matches the above matrix found manually "
   ]
  },
  {
   "cell_type": "code",
   "execution_count": null,
   "metadata": {},
   "outputs": [],
   "source": []
  }
 ]
}