{
 "metadata": {
  "language_info": {
   "codemirror_mode": {
    "name": "ipython",
    "version": 3
   },
   "file_extension": ".py",
   "mimetype": "text/x-python",
   "name": "python",
   "nbconvert_exporter": "python",
   "pygments_lexer": "ipython3",
   "version": "3.9.1"
  },
  "orig_nbformat": 2,
  "kernelspec": {
   "name": "pythonjvsc74a57bd0c69918641ddc948f60fb0bdccede7f6d9bd18d895f6bef65478a41eec0e5a990",
   "display_name": "Python 3.9.1  ('pop_venv': venv)"
  },
  "metadata": {
   "interpreter": {
    "hash": "c69918641ddc948f60fb0bdccede7f6d9bd18d895f6bef65478a41eec0e5a990"
   }
  }
 },
 "nbformat": 4,
 "nbformat_minor": 2,
 "cells": [
  {
   "cell_type": "code",
   "execution_count": 1,
   "metadata": {},
   "outputs": [],
   "source": [
    "from GraphTheory.read import Graph, GraphMatrix\n",
    "from GraphTheory.Kruskal import Kruskal\n",
    "from distance_data import grid04\n",
    "from time import time \n",
    "import numpy as np "
   ]
  },
  {
   "cell_type": "code",
   "execution_count": 2,
   "metadata": {},
   "outputs": [
    {
     "output_type": "execute_result",
     "data": {
      "text/plain": [
       "   4  Unnamed: 1  Unnamed: 2  Unnamed: 3\n",
       "0  0    3.000000    5.000000    4.000000\n",
       "1  3    0.000000    3.162277    5.000000\n",
       "2  5    3.162277    0.000000    4.123106\n",
       "3  4    5.000000    4.123106    0.000000"
      ],
      "text/html": "<div>\n<style scoped>\n    .dataframe tbody tr th:only-of-type {\n        vertical-align: middle;\n    }\n\n    .dataframe tbody tr th {\n        vertical-align: top;\n    }\n\n    .dataframe thead th {\n        text-align: right;\n    }\n</style>\n<table border=\"1\" class=\"dataframe\">\n  <thead>\n    <tr style=\"text-align: right;\">\n      <th></th>\n      <th>4</th>\n      <th>Unnamed: 1</th>\n      <th>Unnamed: 2</th>\n      <th>Unnamed: 3</th>\n    </tr>\n  </thead>\n  <tbody>\n    <tr>\n      <th>0</th>\n      <td>0</td>\n      <td>3.000000</td>\n      <td>5.000000</td>\n      <td>4.000000</td>\n    </tr>\n    <tr>\n      <th>1</th>\n      <td>3</td>\n      <td>0.000000</td>\n      <td>3.162277</td>\n      <td>5.000000</td>\n    </tr>\n    <tr>\n      <th>2</th>\n      <td>5</td>\n      <td>3.162277</td>\n      <td>0.000000</td>\n      <td>4.123106</td>\n    </tr>\n    <tr>\n      <th>3</th>\n      <td>4</td>\n      <td>5.000000</td>\n      <td>4.123106</td>\n      <td>0.000000</td>\n    </tr>\n  </tbody>\n</table>\n</div>"
     },
     "metadata": {},
     "execution_count": 2
    }
   ],
   "source": [
    "grid04"
   ]
  },
  {
   "cell_type": "code",
   "execution_count": 3,
   "metadata": {},
   "outputs": [
    {
     "output_type": "stream",
     "name": "stdout",
     "text": [
      "[[0.        3.        5.        4.       ]\n [3.        0.        3.162277  5.       ]\n [5.        3.162277  0.        4.1231055]\n [4.        5.        4.1231055 0.       ]]\n"
     ]
    }
   ],
   "source": [
    "a = grid04.to_numpy()\n",
    "print(a)"
   ]
  },
  {
   "cell_type": "code",
   "execution_count": 4,
   "metadata": {},
   "outputs": [
    {
     "output_type": "stream",
     "name": "stdout",
     "text": [
      "[(1, 2), (1, 3), (1, 4), (2, 3), (2, 4), (3, 4)]\n[3.0, 5.0, 4.0, 3.162277, 5.0, 4.1231055]\n[1, 2, 3, 4]\n[3.0, 3.162277, 4.0, 4.1231055, 5.0, 5.0]\n[(1, 2), (2, 3), (1, 4), (3, 4), (1, 3), (2, 4)]\n[(1, 2, 3.0), (1, 3, 5.0), (1, 4, 4.0), (2, 3, 3.162277), (2, 4, 5.0), (3, 4, 4.1231055)]\n"
     ]
    }
   ],
   "source": [
    "#symmetric so can deal with upper triangular \n",
    "G_a = GraphMatrix(np.triu(a))\n",
    "linklist = G_a.link_list\n",
    "distances = G_a.dist_list\n",
    "nodelist = G_a.G.nodes()\n",
    "KG = Kruskal(G_a.G)\n",
    "print(linklist)\n",
    "print(distances)\n",
    "print(nodelist)\n",
    "print(KG.ordered_distance)\n",
    "print(KG.ordered_links)\n",
    "print(KG.weighted_edge_list)"
   ]
  },
  {
   "cell_type": "code",
   "execution_count": 5,
   "metadata": {},
   "outputs": [
    {
     "output_type": "stream",
     "name": "stdout",
     "text": [
      "[(1, 2), (2, 3), (1, 4)]\n{1, 2, 3, 4}\n"
     ]
    }
   ],
   "source": [
    "distances = KG.ordered_distance\n",
    "links = KG.ordered_links\n",
    "\n",
    "travelled_edges = [links[0]]\n",
    "travelled_nodes = [links[0][0], links[0][1]]\n",
    "for i,j  in zip(links[1:],distances[1:]):\n",
    "    if not (i[0] and i[1]  in travelled_nodes):\n",
    "        travelled_nodes.append(i[0])\n",
    "        travelled_nodes.append(i[1])\n",
    "        travelled_edges.append(i)\n",
    "        if sorted(set(travelled_nodes)) == set(nodelist):\n",
    "            break\n",
    "print(travelled_edges)\n",
    "print(set(travelled_nodes))"
   ]
  },
  {
   "cell_type": "code",
   "execution_count": 6,
   "metadata": {},
   "outputs": [
    {
     "output_type": "execute_result",
     "data": {
      "text/plain": [
       "({1, 2, 3, 4}, [(1, 2), (2, 3), (1, 4)], [3.0, 3.162277, 4.0], 10.162277)"
      ]
     },
     "metadata": {},
     "execution_count": 6
    }
   ],
   "source": [
    "KG.kruskal()"
   ]
  },
  {
   "cell_type": "code",
   "execution_count": 7,
   "metadata": {},
   "outputs": [
    {
     "output_type": "stream",
     "name": "stdout",
     "text": [
      "[(1, 2), (1, 3), (1, 4), (2, 1), (2, 3), (2, 4), (3, 1), (3, 2), (3, 4), (4, 1), (4, 2), (4, 3)]\n",
      "[3.0, 5.0, 4.0, 3.0, 3.162277, 5.0, 5.0, 3.162277, 4.1231055, 4.0, 5.0, 4.1231055]\n",
      "[1, 2, 3, 4]\n",
      "[3.0, 3.0, 3.162277, 3.162277, 4.0, 4.0, 4.1231055, 4.1231055, 5.0, 5.0, 5.0, 5.0]\n",
      "[(1, 2), (2, 1), (2, 3), (3, 2), (1, 4), (4, 1), (3, 4), (4, 3), (1, 3), (2, 4), (3, 1), (4, 2)]\n",
      "[(1, 2, 3.0), (1, 3, 5.0), (1, 4, 4.0), (2, 1, 3.0), (2, 3, 3.162277), (2, 4, 5.0), (3, 1, 5.0), (3, 2, 3.162277), (3, 4, 4.1231055), (4, 1, 4.0), (4, 2, 5.0), (4, 3, 4.1231055)]\n"
     ]
    }
   ],
   "source": [
    "# try with full matrix\n",
    "G_a = GraphMatrix(a)\n",
    "linklist = G_a.link_list\n",
    "distances = G_a.dist_list\n",
    "nodelist = G_a.G.nodes()\n",
    "KG1 = Kruskal(G_a.G)\n",
    "print(linklist)\n",
    "print(distances)\n",
    "print(nodelist)\n",
    "print(KG1.ordered_distance)\n",
    "print(KG1.ordered_links)\n",
    "print(KG1.weighted_edge_list)"
   ]
  },
  {
   "cell_type": "code",
   "execution_count": 8,
   "metadata": {},
   "outputs": [
    {
     "output_type": "stream",
     "name": "stdout",
     "text": [
      "[(1, 2), (2, 3), (1, 4)]\n{1, 2, 3, 4}\n10.162277\n[3.0, 3.162277, 4.0]\n"
     ]
    }
   ],
   "source": [
    "distances = KG1.ordered_distance\n",
    "links = KG1.ordered_links\n",
    "travelled_distance = distances[0]\n",
    "travelled_distance_list = [distances[0]]\n",
    "travelled_edges = [links[0]]\n",
    "travelled_nodes = [links[0][0], links[0][1]]\n",
    "for i,j  in zip(links[1:],distances[1:]):\n",
    "    if not (i[0] and i[1]  in travelled_nodes):\n",
    "        travelled_nodes.append(i[0])\n",
    "        travelled_nodes.append(i[1])\n",
    "        travelled_edges.append(i)\n",
    "        travelled_distance_list.append(j)\n",
    "        travelled_distance += j\n",
    "        if sorted(set(travelled_nodes)) == set(nodelist):\n",
    "            break\n",
    "print(travelled_edges)\n",
    "print(set(travelled_nodes))\n",
    "print(travelled_distance)\n",
    "print(travelled_distance_list)"
   ]
  },
  {
   "cell_type": "code",
   "execution_count": 9,
   "metadata": {},
   "outputs": [
    {
     "output_type": "execute_result",
     "data": {
      "text/plain": [
       "({1, 2, 3, 4}, [(1, 2), (2, 3), (1, 4)], [3.0, 3.162277, 4.0], 10.162277)"
      ]
     },
     "metadata": {},
     "execution_count": 9
    }
   ],
   "source": [
    "KG1.kruskal() # return the same as expected."
   ]
  },
  {
   "cell_type": "code",
   "execution_count": 10,
   "metadata": {},
   "outputs": [],
   "source": [
    "from distance_data import ha30, kn57, uk12, wg22\n",
    "ha_30 = ha30.to_numpy()\n",
    "kn_57 = kn57.to_numpy()\n",
    "uk_12 = uk12.to_numpy()\n",
    "wg_22 = wg22.to_numpy()\n",
    "data_sets_collected = [ha_30, kn_57, uk_12, wg_22]"
   ]
  },
  {
   "cell_type": "code",
   "execution_count": 11,
   "metadata": {},
   "outputs": [],
   "source": [
    "# these are all symmetric as seen in the data_distances_matrices notebook\n",
    "# just run using upper triangular matrices\n",
    "GM = [GraphMatrix(np.triu(i)) for i in data_sets_collected]  # this the Graph matrix class applied\n",
    "GM_G = [i.G for i in GM]   # this now allows access to the Graph object versions of the matrices\n",
    "KGM = [Kruskal(i) for i in GM_G]  # turn into kruskal objects where kruskals algorithm is a method of the class"
   ]
  },
  {
   "cell_type": "code",
   "execution_count": 12,
   "metadata": {},
   "outputs": [],
   "source": [
    "lis = ['ha_30', 'kn_57', 'uk_12', 'wg_22']"
   ]
  },
  {
   "cell_type": "code",
   "execution_count": 13,
   "metadata": {},
   "outputs": [
    {
     "output_type": "stream",
     "name": "stdout",
     "text": [
      "kruskal agorithm for ha_30\n({2, 3, 4, 5, 6, 7, 8, 9, 10, 11, 12, 13, 14, 15, 16, 17, 18, 19, 20, 21, 22, 23, 24, 25, 26, 27, 28, 29, 30}, [(13, 22), (17, 20), (15, 29), (3, 24), (5, 26), (25, 27), (2, 6), (6, 11), (8, 19), (3, 18), (28, 30), (5, 23), (16, 21), (9, 14), (2, 4), (8, 12), (9, 10), (5, 7)], [2, 3, 4, 7, 7, 7, 8, 8, 8, 10, 11, 12, 15, 16, 20, 23, 38, 43], 242)\ntimetaken = 0.0\nkruskal agorithm for kn_57\n({1, 2, 3, 4, 5, 6, 7, 8, 9, 10, 11, 12, 13, 14, 15, 16, 17, 18, 19, 20, 21, 22, 23, 24, 25, 26, 27, 28, 29, 30, 31, 32, 33, 34, 35, 36, 37, 38, 39, 40, 41, 42, 43, 44, 45, 46, 47, 48, 49, 50, 51, 52, 53, 54, 55, 56, 57}, [(1, 11), (3, 56), (16, 53), (26, 54), (38, 50), (3, 19), (16, 27), (9, 32), (36, 39), (8, 14), (1, 42), (10, 12), (10, 22), (10, 30), (25, 45), (15, 37), (28, 31), (54, 57), (25, 51), (10, 18), (2, 4), (17, 34), (43, 48), (51, 55), (23, 35), (24, 52), (5, 41), (1, 7), (13, 21), (15, 33), (48, 49), (3, 44), (29, 40), (3, 6), (29, 47), (8, 46), (5, 20)], [33, 38, 57, 63, 73, 80, 84, 91, 92, 101, 105, 106, 109, 111, 128, 135, 139, 139, 140, 151, 152, 160, 176, 181, 187, 200, 207, 210, 242, 253, 288, 301, 390, 405, 405, 458, 631], 6821)\ntimetaken = 0.0019931793212890625\nkruskal agorithm for uk_12\n({1, 2, 3, 4, 5, 6, 7, 8, 9, 10, 11, 12}, [(1, 10), (7, 9), (3, 5), (8, 12), (7, 11), (2, 4), (2, 6)], [47, 67, 88, 108, 117, 180, 190], 797)\ntimetaken = 0.0\nkruskal agorithm for wg_22\n({2, 3, 4, 5, 6, 7, 8, 9, 10, 11, 12, 13, 14, 15, 16, 17, 18, 19, 20, 21, 22}, [(5, 12), (9, 13), (2, 14), (7, 21), (20, 22), (7, 11), (13, 19), (15, 17), (13, 18), (3, 10), (14, 16), (3, 4), (2, 8), (2, 6)], [17, 17, 18, 19, 20, 26, 28, 28, 35, 42, 47, 49, 73, 76], 495)\ntimetaken = 0.0009970664978027344\n"
     ]
    }
   ],
   "source": [
    "#from time import\n",
    "for  i in range(4):\n",
    "    print(f'kruskal agorithm for {lis[i]}')\n",
    "    t0 = time()\n",
    "    print(KGM[i].kruskal())\n",
    "    t1 = time()\n",
    "    print(f'timetaken = {t1 - t0}')"
   ]
  },
  {
   "cell_type": "code",
   "execution_count": null,
   "metadata": {},
   "outputs": [],
   "source": []
  }
 ]
}