{
 "metadata": {
  "language_info": {
   "codemirror_mode": {
    "name": "ipython",
    "version": 3
   },
   "file_extension": ".py",
   "mimetype": "text/x-python",
   "name": "python",
   "nbconvert_exporter": "python",
   "pygments_lexer": "ipython3",
   "version": "3.9.1"
  },
  "orig_nbformat": 2,
  "kernelspec": {
   "name": "pythonjvsc74a57bd0c69918641ddc948f60fb0bdccede7f6d9bd18d895f6bef65478a41eec0e5a990",
   "display_name": "Python 3.9.1  ('pop_venv': venv)"
  },
  "metadata": {
   "interpreter": {
    "hash": "c69918641ddc948f60fb0bdccede7f6d9bd18d895f6bef65478a41eec0e5a990"
   }
  }
 },
 "nbformat": 4,
 "nbformat_minor": 2,
 "cells": [
  {
   "cell_type": "code",
   "execution_count": 1,
   "metadata": {},
   "outputs": [],
   "source": [
    "from GraphTheory.read import Graph, GraphMatrix\n",
    "from GraphTheory.Kruskal import Kruskal\n",
    "from distance_data import grid04\n",
    "import numpy as np "
   ]
  },
  {
   "cell_type": "code",
   "execution_count": 2,
   "metadata": {},
   "outputs": [
    {
     "output_type": "execute_result",
     "data": {
      "text/plain": [
       "   4  Unnamed: 1  Unnamed: 2  Unnamed: 3\n",
       "0  0    3.000000    5.000000    4.000000\n",
       "1  3    0.000000    3.162277    5.000000\n",
       "2  5    3.162277    0.000000    4.123106\n",
       "3  4    5.000000    4.123106    0.000000"
      ],
      "text/html": "<div>\n<style scoped>\n    .dataframe tbody tr th:only-of-type {\n        vertical-align: middle;\n    }\n\n    .dataframe tbody tr th {\n        vertical-align: top;\n    }\n\n    .dataframe thead th {\n        text-align: right;\n    }\n</style>\n<table border=\"1\" class=\"dataframe\">\n  <thead>\n    <tr style=\"text-align: right;\">\n      <th></th>\n      <th>4</th>\n      <th>Unnamed: 1</th>\n      <th>Unnamed: 2</th>\n      <th>Unnamed: 3</th>\n    </tr>\n  </thead>\n  <tbody>\n    <tr>\n      <th>0</th>\n      <td>0</td>\n      <td>3.000000</td>\n      <td>5.000000</td>\n      <td>4.000000</td>\n    </tr>\n    <tr>\n      <th>1</th>\n      <td>3</td>\n      <td>0.000000</td>\n      <td>3.162277</td>\n      <td>5.000000</td>\n    </tr>\n    <tr>\n      <th>2</th>\n      <td>5</td>\n      <td>3.162277</td>\n      <td>0.000000</td>\n      <td>4.123106</td>\n    </tr>\n    <tr>\n      <th>3</th>\n      <td>4</td>\n      <td>5.000000</td>\n      <td>4.123106</td>\n      <td>0.000000</td>\n    </tr>\n  </tbody>\n</table>\n</div>"
     },
     "metadata": {},
     "execution_count": 2
    }
   ],
   "source": [
    "grid04"
   ]
  },
  {
   "cell_type": "code",
   "execution_count": 3,
   "metadata": {},
   "outputs": [
    {
     "output_type": "stream",
     "name": "stdout",
     "text": [
      "[[0.        3.        5.        4.       ]\n [3.        0.        3.162277  5.       ]\n [5.        3.162277  0.        4.1231055]\n [4.        5.        4.1231055 0.       ]]\n"
     ]
    }
   ],
   "source": [
    "a = grid04.to_numpy()\n",
    "print(a)"
   ]
  },
  {
   "cell_type": "code",
   "execution_count": 4,
   "metadata": {},
   "outputs": [
    {
     "output_type": "stream",
     "name": "stdout",
     "text": [
      "[(1, 2), (1, 3), (1, 4), (2, 3), (2, 4), (3, 4)]\n[3.0, 5.0, 4.0, 3.162277, 5.0, 4.1231055]\n[1, 2, 3, 4]\n[3.0, 3.162277, 4.0, 4.1231055, 5.0, 5.0]\n[(1, 2), (2, 3), (1, 4), (3, 4), (1, 3), (2, 4)]\n[(1, 2, 3.0), (1, 3, 5.0), (1, 4, 4.0), (2, 3, 3.162277), (2, 4, 5.0), (3, 4, 4.1231055)]\n"
     ]
    }
   ],
   "source": [
    "#symmetric so can deal with upper triangular \n",
    "G_a = GraphMatrix(np.triu(a))\n",
    "linklist = G_a.link_list\n",
    "distances = G_a.dist_list\n",
    "nodelist = G_a.G.nodes()\n",
    "KG = Kruskal(G_a.G)\n",
    "print(linklist)\n",
    "print(distances)\n",
    "print(nodelist)\n",
    "print(KG.ordered_distance)\n",
    "print(KG.ordered_links)\n",
    "print(KG.weighted_edge_list)"
   ]
  },
  {
   "cell_type": "code",
   "execution_count": 5,
   "metadata": {},
   "outputs": [
    {
     "output_type": "stream",
     "name": "stdout",
     "text": [
      "[(1, 2), (2, 3), (1, 4)]\n{1, 2, 3, 4}\n"
     ]
    }
   ],
   "source": [
    "distances = KG.ordered_distance\n",
    "links = KG.ordered_links\n",
    "\n",
    "travelled_edges = [links[0]]\n",
    "travelled_nodes = [links[0][0], links[0][1]]\n",
    "for i,j  in zip(links[1:],distances[1:]):\n",
    "    if not (i[0] and i[1]  in travelled_nodes):\n",
    "        travelled_nodes.append(i[0])\n",
    "        travelled_nodes.append(i[1])\n",
    "        travelled_edges.append(i)\n",
    "        if sorted(set(travelled_nodes)) == set(nodelist):\n",
    "            break\n",
    "print(travelled_edges)\n",
    "print(set(travelled_nodes))"
   ]
  },
  {
   "cell_type": "code",
   "execution_count": 6,
   "metadata": {},
   "outputs": [
    {
     "output_type": "execute_result",
     "data": {
      "text/plain": [
       "({1, 2, 3, 4}, [(1, 2), (2, 3), (1, 4)])"
      ]
     },
     "metadata": {},
     "execution_count": 6
    }
   ],
   "source": [
    "KG.kruskal()"
   ]
  },
  {
   "cell_type": "code",
   "execution_count": 7,
   "metadata": {},
   "outputs": [
    {
     "output_type": "stream",
     "name": "stdout",
     "text": [
      "[(1, 2), (1, 3), (1, 4), (2, 1), (2, 3), (2, 4), (3, 1), (3, 2), (3, 4), (4, 1), (4, 2), (4, 3)]\n[3.0, 5.0, 4.0, 3.0, 3.162277, 5.0, 5.0, 3.162277, 4.1231055, 4.0, 5.0, 4.1231055]\n[1, 2, 3, 4]\n[3.0, 3.0, 3.162277, 3.162277, 4.0, 4.0, 4.1231055, 4.1231055, 5.0, 5.0, 5.0, 5.0]\n[(1, 2), (2, 1), (2, 3), (3, 2), (1, 4), (4, 1), (3, 4), (4, 3), (1, 3), (2, 4), (3, 1), (4, 2)]\n[(1, 2, 3.0), (1, 3, 5.0), (1, 4, 4.0), (2, 1, 3.0), (2, 3, 3.162277), (2, 4, 5.0), (3, 1, 5.0), (3, 2, 3.162277), (3, 4, 4.1231055), (4, 1, 4.0), (4, 2, 5.0), (4, 3, 4.1231055)]\n"
     ]
    }
   ],
   "source": [
    "# try with full matrix\n",
    "G_a = GraphMatrix(a)\n",
    "linklist = G_a.link_list\n",
    "distances = G_a.dist_list\n",
    "nodelist = G_a.G.nodes()\n",
    "KG1 = Kruskal(G_a.G)\n",
    "print(linklist)\n",
    "print(distances)\n",
    "print(nodelist)\n",
    "print(KG1.ordered_distance)\n",
    "print(KG1.ordered_links)\n",
    "print(KG1.weighted_edge_list)"
   ]
  },
  {
   "cell_type": "code",
   "execution_count": 8,
   "metadata": {},
   "outputs": [
    {
     "output_type": "stream",
     "name": "stdout",
     "text": [
      "[(1, 2), (2, 3), (1, 4)]\n{1, 2, 3, 4}\n"
     ]
    }
   ],
   "source": [
    "distances = KG1.ordered_distance\n",
    "links = KG1.ordered_links\n",
    "\n",
    "travelled_edges = [links[0]]\n",
    "travelled_nodes = [links[0][0], links[0][1]]\n",
    "for i,j  in zip(links[1:],distances[1:]):\n",
    "    if not (i[0] and i[1]  in travelled_nodes):\n",
    "        travelled_nodes.append(i[0])\n",
    "        travelled_nodes.append(i[1])\n",
    "        travelled_edges.append(i)\n",
    "        if sorted(set(travelled_nodes)) == set(nodelist):\n",
    "            break\n",
    "print(travelled_edges)\n",
    "print(set(travelled_nodes))"
   ]
  },
  {
   "cell_type": "code",
   "execution_count": 9,
   "metadata": {},
   "outputs": [
    {
     "output_type": "execute_result",
     "data": {
      "text/plain": [
       "({1, 2, 3, 4}, [(1, 2), (2, 3), (1, 4)])"
      ]
     },
     "metadata": {},
     "execution_count": 9
    }
   ],
   "source": [
    "KG1.kruskal() # return the same as expected."
   ]
  },
  {
   "cell_type": "code",
   "execution_count": null,
   "metadata": {},
   "outputs": [],
   "source": []
  }
 ]
}