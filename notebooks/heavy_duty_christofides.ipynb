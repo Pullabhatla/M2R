{
 "metadata": {
  "language_info": {
   "codemirror_mode": {
    "name": "ipython",
    "version": 3
   },
   "file_extension": ".py",
   "mimetype": "text/x-python",
   "name": "python",
   "nbconvert_exporter": "python",
   "pygments_lexer": "ipython3",
   "version": "3.9.1"
  },
  "orig_nbformat": 4,
  "kernelspec": {
   "name": "python3",
   "display_name": "Python 3.9.1  ('pop_venv': venv)"
  },
  "interpreter": {
   "hash": "c69918641ddc948f60fb0bdccede7f6d9bd18d895f6bef65478a41eec0e5a990"
  }
 },
 "nbformat": 4,
 "nbformat_minor": 2,
 "cells": [
  {
   "cell_type": "code",
   "execution_count": 1,
   "metadata": {},
   "outputs": [],
   "source": [
    "from GraphTheory.benchmarking_christofides import christofides1\n",
    "from distance_data import e_array, f_array, h_array, o_array, n_array, coord_to_matrix\n",
    "from time import time\n",
    "from GraphTheory.benchmarking_christofides import christofides1"
   ]
  },
  {
   "cell_type": "code",
   "execution_count": 2,
   "metadata": {},
   "outputs": [
    {
     "output_type": "stream",
     "name": "stdout",
     "text": [
      "340.7894039154053\n"
     ]
    }
   ],
   "source": [
    "t0 = time()\n",
    "egypt_adjacencymatrix = coord_to_matrix(e_array[:, 1], e_array[:, 0])\n",
    "t1 = time()\n",
    "print(t1-t0)"
   ]
  },
  {
   "cell_type": "code",
   "execution_count": 5,
   "metadata": {},
   "outputs": [
    {
     "output_type": "stream",
     "name": "stdout",
     "text": [
      "903.6682949066162\n"
     ]
    }
   ],
   "source": [
    "t0 = time()\n",
    "finland_adjacencymatrix = coord_to_matrix(f_array[:, 1], f_array[:, 0])\n",
    "t1 = time()\n",
    "print(t1-t0)"
   ]
  },
  {
   "cell_type": "code",
   "execution_count": 6,
   "metadata": {},
   "outputs": [],
   "source": [
    "#honduras_adjacencymatrix = coord_to_matrix(h_array[:, 1], h_array[:, 0])\n",
    "#burma_adjacencymatrix = coord_to_matrix(b_array[:, 1], b_array[:, 0])"
   ]
  },
  {
   "cell_type": "code",
   "execution_count": 3,
   "metadata": {},
   "outputs": [
    {
     "output_type": "stream",
     "name": "stdout",
     "text": [
      "24.886262893676758\n"
     ]
    }
   ],
   "source": [
    "t0 = time()\n",
    "oman_adjacencymatrix = coord_to_matrix(o_array[:, 1], o_array[:, 0])\n",
    "t1 = time()\n",
    "print(t1-t0)"
   ]
  },
  {
   "cell_type": "code",
   "execution_count": 4,
   "metadata": {},
   "outputs": [
    {
     "output_type": "stream",
     "name": "stdout",
     "text": [
      "75.41819143295288\n"
     ]
    }
   ],
   "source": [
    "t0 = time()\n",
    "nicaragua_adjacencymatrix = coord_to_matrix(n_array[:, 1], n_array[:, 0])\n",
    "t1 = time()\n",
    "print(t1-t0)"
   ]
  },
  {
   "cell_type": "code",
   "execution_count": 9,
   "metadata": {},
   "outputs": [
    {
     "output_type": "stream",
     "name": "stdout",
     "text": [
      "[1979, 3496, 7146, 10639]\n"
     ]
    }
   ],
   "source": [
    "heavy_duty = [oman_adjacencymatrix, nicaragua_adjacencymatrix, egypt_adjacencymatrix, finland_adjacencymatrix]\n",
    "len_mat = [len(i) for i in heavy_duty]\n",
    "print(len_mat)"
   ]
  },
  {
   "cell_type": "code",
   "execution_count": null,
   "metadata": {},
   "outputs": [],
   "source": [
    "times = []\n",
    "outputs = []\n",
    "for i in heavy_duty:\n",
    "    t0 = time()\n",
    "    outputs.append(christofides1(i))\n",
    "    t1 = time()\n",
    "    times.append(t1-t0)\n",
    "    print(t1-t0)"
   ]
  },
  {
   "cell_type": "code",
   "execution_count": null,
   "metadata": {},
   "outputs": [],
   "source": [
    "print(times)"
   ]
  },
  {
   "cell_type": "code",
   "execution_count": null,
   "metadata": {},
   "outputs": [],
   "source": []
  }
 ]
}