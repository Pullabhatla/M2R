{
 "metadata": {
  "language_info": {
   "codemirror_mode": {
    "name": "ipython",
    "version": 3
   },
   "file_extension": ".py",
   "mimetype": "text/x-python",
   "name": "python",
   "nbconvert_exporter": "python",
   "pygments_lexer": "ipython3",
   "version": "3.9.1"
  },
  "orig_nbformat": 2,
  "kernelspec": {
   "name": "python3",
   "display_name": "Python 3.9.1  ('pop_venv': venv)"
  },
  "metadata": {
   "interpreter": {
    "hash": "c69918641ddc948f60fb0bdccede7f6d9bd18d895f6bef65478a41eec0e5a990"
   }
  },
  "interpreter": {
   "hash": "c69918641ddc948f60fb0bdccede7f6d9bd18d895f6bef65478a41eec0e5a990"
  }
 },
 "nbformat": 4,
 "nbformat_minor": 2,
 "cells": [
  {
   "cell_type": "code",
   "execution_count": 1,
   "metadata": {},
   "outputs": [],
   "source": [
    "from GraphTheory.lower_bound import lower_bound\n",
    "from distance_data import grid04, kn57, uk12, wg22, sgb128, wg59\n",
    "from distance_data import djibouti_adjacencymatrix, usa_adjacencymatrix, ws_adjacencymatrix\n",
    "from time import time \n",
    "import numpy as np \n",
    "kn_57 = kn57.to_numpy()\n",
    "uk_12 = uk12.to_numpy()\n",
    "wg_22 = wg22.to_numpy()\n",
    "sgb_128 = sgb128.to_numpy()\n",
    "wg_59 = wg59.to_numpy()\n",
    "data_sets_collected = [uk_12, wg_22, kn_57, wg_59, sgb_128]\n",
    "data_sets_collected1 = [djibouti_adjacencymatrix, usa_adjacencymatrix, ws_adjacencymatrix]\n",
    "lis = ['uk_12', 'wg_22', 'kn_57', 'wg_59', 'sgb_128']\n",
    "lis_cities = [12, 22, 57, 59, 128]\n",
    "lis1 = ['djibouti',  'usa', 'wsahara']\n",
    "lis1_cities = [38, 48, 29]"
   ]
  },
  {
   "cell_type": "code",
   "execution_count": 2,
   "metadata": {},
   "outputs": [],
   "source": [
    "list_of_all_cities = lis + lis1\n",
    "list_of_number_of_cities = lis_cities + lis1_cities\n",
    "list_of_allmatrices = data_sets_collected + data_sets_collected1\n",
    "outputs = []\n",
    "times = []\n",
    "data_usage = []\n",
    "for i in range(8):\n",
    "    t0 = time()\n",
    "    outputs.append(lower_bound(list_of_allmatrices[i]))\n",
    "    t1 = time()\n",
    "    times.append(t1-t0)\n"
   ]
  },
  {
   "cell_type": "code",
   "execution_count": 3,
   "metadata": {},
   "outputs": [
    {
     "output_type": "stream",
     "name": "stdout",
     "text": [
      "[0.5315797328948975, 0.821800947189331, 5.308803081512451, 5.858327150344849, 43.43762969970703, 1.8540422916412354, 2.5202877521514893, 0.9325065612792969]\n"
     ]
    }
   ],
   "source": [
    "print(times)"
   ]
  },
  {
   "cell_type": "code",
   "execution_count": 4,
   "metadata": {},
   "outputs": [
    {
     "output_type": "stream",
     "name": "stdout",
     "text": [
      "[(<GraphTheory.read.Graph object at 0x0000025499709EB0>, 1513), (<GraphTheory.read.Graph object at 0x00000254B8D4C790>, 694), (<GraphTheory.read.Graph object at 0x000002549969CF40>, 11520), (<GraphTheory.read.Graph object at 0x00000254B8DA2AC0>, 875), (<GraphTheory.read.Graph object at 0x00000254B8D874F0>, 13917), (<GraphTheory.read.Graph object at 0x0000025499635370>, 6327.352332143821), (<GraphTheory.read.Graph object at 0x000002549968D940>, 29420.201116969307), (<GraphTheory.read.Graph object at 0x00000254996AE880>, 24000.83428009632)]\n"
     ]
    }
   ],
   "source": [
    "print(outputs)"
   ]
  },
  {
   "cell_type": "code",
   "execution_count": 5,
   "metadata": {},
   "outputs": [],
   "source": [
    "from benchmark_data import *\n",
    "from time import time"
   ]
  },
  {
   "cell_type": "code",
   "execution_count": 6,
   "metadata": {},
   "outputs": [
    {
     "output_type": "error",
     "ename": "KeyboardInterrupt",
     "evalue": "",
     "traceback": [
      "\u001b[1;31m---------------------------------------------------------------------------\u001b[0m",
      "\u001b[1;31mKeyboardInterrupt\u001b[0m                         Traceback (most recent call last)",
      "\u001b[1;32m<ipython-input-6-06c671d9e2ea>\u001b[0m in \u001b[0;36m<module>\u001b[1;34m\u001b[0m\n\u001b[0;32m      3\u001b[0m \u001b[1;32mfor\u001b[0m  \u001b[0mi\u001b[0m  \u001b[1;32min\u001b[0m \u001b[0mmat_list\u001b[0m\u001b[1;33m:\u001b[0m\u001b[1;33m\u001b[0m\u001b[1;33m\u001b[0m\u001b[0m\n\u001b[0;32m      4\u001b[0m     \u001b[0mt0\u001b[0m \u001b[1;33m=\u001b[0m \u001b[0mtime\u001b[0m\u001b[1;33m(\u001b[0m\u001b[1;33m)\u001b[0m\u001b[1;33m\u001b[0m\u001b[1;33m\u001b[0m\u001b[0m\n\u001b[1;32m----> 5\u001b[1;33m     \u001b[0moutput\u001b[0m\u001b[1;33m.\u001b[0m\u001b[0mappend\u001b[0m\u001b[1;33m(\u001b[0m\u001b[0mlower_bound\u001b[0m\u001b[1;33m(\u001b[0m\u001b[0mi\u001b[0m\u001b[1;33m)\u001b[0m\u001b[1;33m)\u001b[0m\u001b[1;33m\u001b[0m\u001b[1;33m\u001b[0m\u001b[0m\n\u001b[0m\u001b[0;32m      6\u001b[0m     \u001b[0mt1\u001b[0m \u001b[1;33m=\u001b[0m\u001b[0mtime\u001b[0m\u001b[1;33m(\u001b[0m\u001b[1;33m)\u001b[0m\u001b[1;33m\u001b[0m\u001b[1;33m\u001b[0m\u001b[0m\n\u001b[0;32m      7\u001b[0m     \u001b[0mtimes\u001b[0m\u001b[1;33m.\u001b[0m\u001b[0mappend\u001b[0m\u001b[1;33m(\u001b[0m\u001b[0mt1\u001b[0m\u001b[1;33m-\u001b[0m\u001b[0mt0\u001b[0m\u001b[1;33m)\u001b[0m\u001b[1;33m\u001b[0m\u001b[1;33m\u001b[0m\u001b[0m\n",
      "\u001b[1;32mc:\\users\\anija\\onedrive\\documents\\computing term 2\\principles_of_programming\\m2r\\GraphTheory\\lower_bound.py\u001b[0m in \u001b[0;36mlower_bound\u001b[1;34m(matrix)\u001b[0m\n\u001b[0;32m     23\u001b[0m         \u001b[0mmatrix\u001b[0m\u001b[1;33m[\u001b[0m\u001b[1;33m:\u001b[0m\u001b[1;33m,\u001b[0m \u001b[0mi\u001b[0m\u001b[1;33m]\u001b[0m \u001b[1;33m=\u001b[0m \u001b[0mzero\u001b[0m\u001b[1;33m\u001b[0m\u001b[1;33m\u001b[0m\u001b[0m\n\u001b[0;32m     24\u001b[0m         \u001b[0mmatrix\u001b[0m\u001b[1;33m[\u001b[0m\u001b[0mi\u001b[0m\u001b[1;33m,\u001b[0m \u001b[1;33m:\u001b[0m\u001b[1;33m]\u001b[0m \u001b[1;33m=\u001b[0m \u001b[0mzero\u001b[0m\u001b[1;33m\u001b[0m\u001b[1;33m\u001b[0m\u001b[0m\n\u001b[1;32m---> 25\u001b[1;33m         \u001b[0mgraph1\u001b[0m \u001b[1;33m=\u001b[0m \u001b[0mGraphMatrix\u001b[0m\u001b[1;33m(\u001b[0m\u001b[0mmatrix\u001b[0m\u001b[1;33m,\u001b[0m \u001b[0mdirected\u001b[0m\u001b[1;33m=\u001b[0m\u001b[1;32mFalse\u001b[0m\u001b[1;33m)\u001b[0m\u001b[1;33m.\u001b[0m\u001b[0mG\u001b[0m\u001b[1;33m\u001b[0m\u001b[1;33m\u001b[0m\u001b[0m\n\u001b[0m\u001b[0;32m     26\u001b[0m         \u001b[0mgraph\u001b[0m \u001b[1;33m=\u001b[0m \u001b[0mgraph1\u001b[0m\u001b[1;33m.\u001b[0m\u001b[0mspanning_tree\u001b[0m\u001b[1;33m(\u001b[0m\u001b[1;33m)\u001b[0m\u001b[1;33m\u001b[0m\u001b[1;33m\u001b[0m\u001b[0m\n\u001b[0;32m     27\u001b[0m         \u001b[0mgraph\u001b[0m \u001b[1;33m=\u001b[0m \u001b[0mgraph\u001b[0m\u001b[1;33m.\u001b[0m\u001b[0madd_edge\u001b[0m\u001b[1;33m(\u001b[0m\u001b[0medges_add_back\u001b[0m\u001b[1;33m[\u001b[0m\u001b[1;36m0\u001b[0m\u001b[1;33m]\u001b[0m\u001b[1;33m,\u001b[0m \u001b[0mweights_add_back\u001b[0m\u001b[1;33m[\u001b[0m\u001b[1;36m0\u001b[0m\u001b[1;33m]\u001b[0m\u001b[1;33m)\u001b[0m\u001b[1;33m\u001b[0m\u001b[1;33m\u001b[0m\u001b[0m\n",
      "\u001b[1;32mc:\\users\\anija\\onedrive\\documents\\computing term 2\\principles_of_programming\\m2r\\GraphTheory\\read.py\u001b[0m in \u001b[0;36m__init__\u001b[1;34m(self, A, directed, undirected_multi)\u001b[0m\n\u001b[0;32m    238\u001b[0m         [(self.link_list.append((i+1, j+1)), self.dist_list.append(A[i, j]))\n\u001b[0;32m    239\u001b[0m          for i in range(n) for j in range(n) if A[i, j]]\n\u001b[1;32m--> 240\u001b[1;33m         self.G = Graph(self.link_list, self.dist_list,\n\u001b[0m\u001b[0;32m    241\u001b[0m                        directed=directed, undirected_multi=undirected_multi)\n\u001b[0;32m    242\u001b[0m \u001b[1;33m\u001b[0m\u001b[0m\n",
      "\u001b[1;32mc:\\users\\anija\\onedrive\\documents\\computing term 2\\principles_of_programming\\m2r\\GraphTheory\\read.py\u001b[0m in \u001b[0;36m__init__\u001b[1;34m(self, links, distances, directed, undirected_multi, nc, pos)\u001b[0m\n\u001b[0;32m     54\u001b[0m         self.weighted_edge_list = [i + (j,)\n\u001b[0;32m     55\u001b[0m                                    for i, j in zip(self.links, self.distance)]\n\u001b[1;32m---> 56\u001b[1;33m         \u001b[0mG\u001b[0m\u001b[1;33m.\u001b[0m\u001b[0madd_weighted_edges_from\u001b[0m\u001b[1;33m(\u001b[0m\u001b[0mself\u001b[0m\u001b[1;33m.\u001b[0m\u001b[0mweighted_edge_list\u001b[0m\u001b[1;33m)\u001b[0m\u001b[1;33m\u001b[0m\u001b[1;33m\u001b[0m\u001b[0m\n\u001b[0m\u001b[0;32m     57\u001b[0m         \u001b[0mself\u001b[0m\u001b[1;33m.\u001b[0m\u001b[0mG\u001b[0m \u001b[1;33m=\u001b[0m \u001b[0mG\u001b[0m\u001b[1;33m\u001b[0m\u001b[1;33m\u001b[0m\u001b[0m\n\u001b[0;32m     58\u001b[0m         \u001b[0mself\u001b[0m\u001b[1;33m.\u001b[0m\u001b[0mpos\u001b[0m \u001b[1;33m=\u001b[0m \u001b[0mnx\u001b[0m\u001b[1;33m.\u001b[0m\u001b[0mspring_layout\u001b[0m\u001b[1;33m(\u001b[0m\u001b[0mself\u001b[0m\u001b[1;33m.\u001b[0m\u001b[0mG\u001b[0m\u001b[1;33m)\u001b[0m\u001b[1;33m\u001b[0m\u001b[1;33m\u001b[0m\u001b[0m\n",
      "\u001b[1;32mc:\\Users\\anija\\OneDrive\\Documents\\computing term 2\\principles_of_programming\\pop_venv\\lib\\site-packages\\networkx\\classes\\graph.py\u001b[0m in \u001b[0;36madd_weighted_edges_from\u001b[1;34m(self, ebunch_to_add, weight, **attr)\u001b[0m\n\u001b[0;32m    971\u001b[0m         \u001b[1;33m>>\u001b[0m\u001b[1;33m>\u001b[0m \u001b[0mG\u001b[0m\u001b[1;33m.\u001b[0m\u001b[0madd_weighted_edges_from\u001b[0m\u001b[1;33m(\u001b[0m\u001b[1;33m[\u001b[0m\u001b[1;33m(\u001b[0m\u001b[1;36m0\u001b[0m\u001b[1;33m,\u001b[0m \u001b[1;36m1\u001b[0m\u001b[1;33m,\u001b[0m \u001b[1;36m3.0\u001b[0m\u001b[1;33m)\u001b[0m\u001b[1;33m,\u001b[0m \u001b[1;33m(\u001b[0m\u001b[1;36m1\u001b[0m\u001b[1;33m,\u001b[0m \u001b[1;36m2\u001b[0m\u001b[1;33m,\u001b[0m \u001b[1;36m7.5\u001b[0m\u001b[1;33m)\u001b[0m\u001b[1;33m]\u001b[0m\u001b[1;33m)\u001b[0m\u001b[1;33m\u001b[0m\u001b[1;33m\u001b[0m\u001b[0m\n\u001b[0;32m    972\u001b[0m         \"\"\"\n\u001b[1;32m--> 973\u001b[1;33m         \u001b[0mself\u001b[0m\u001b[1;33m.\u001b[0m\u001b[0madd_edges_from\u001b[0m\u001b[1;33m(\u001b[0m\u001b[1;33m(\u001b[0m\u001b[1;33m(\u001b[0m\u001b[0mu\u001b[0m\u001b[1;33m,\u001b[0m \u001b[0mv\u001b[0m\u001b[1;33m,\u001b[0m \u001b[1;33m{\u001b[0m\u001b[0mweight\u001b[0m\u001b[1;33m:\u001b[0m \u001b[0md\u001b[0m\u001b[1;33m}\u001b[0m\u001b[1;33m)\u001b[0m \u001b[1;32mfor\u001b[0m \u001b[0mu\u001b[0m\u001b[1;33m,\u001b[0m \u001b[0mv\u001b[0m\u001b[1;33m,\u001b[0m \u001b[0md\u001b[0m \u001b[1;32min\u001b[0m \u001b[0mebunch_to_add\u001b[0m\u001b[1;33m)\u001b[0m\u001b[1;33m,\u001b[0m \u001b[1;33m**\u001b[0m\u001b[0mattr\u001b[0m\u001b[1;33m)\u001b[0m\u001b[1;33m\u001b[0m\u001b[1;33m\u001b[0m\u001b[0m\n\u001b[0m\u001b[0;32m    974\u001b[0m \u001b[1;33m\u001b[0m\u001b[0m\n\u001b[0;32m    975\u001b[0m     \u001b[1;32mdef\u001b[0m \u001b[0mremove_edge\u001b[0m\u001b[1;33m(\u001b[0m\u001b[0mself\u001b[0m\u001b[1;33m,\u001b[0m \u001b[0mu\u001b[0m\u001b[1;33m,\u001b[0m \u001b[0mv\u001b[0m\u001b[1;33m)\u001b[0m\u001b[1;33m:\u001b[0m\u001b[1;33m\u001b[0m\u001b[1;33m\u001b[0m\u001b[0m\n",
      "\u001b[1;32mc:\\Users\\anija\\OneDrive\\Documents\\computing term 2\\principles_of_programming\\pop_venv\\lib\\site-packages\\networkx\\classes\\graph.py\u001b[0m in \u001b[0;36madd_edges_from\u001b[1;34m(self, ebunch_to_add, **attr)\u001b[0m\n\u001b[0;32m    935\u001b[0m                 \u001b[0mself\u001b[0m\u001b[1;33m.\u001b[0m\u001b[0m_adj\u001b[0m\u001b[1;33m[\u001b[0m\u001b[0mv\u001b[0m\u001b[1;33m]\u001b[0m \u001b[1;33m=\u001b[0m \u001b[0mself\u001b[0m\u001b[1;33m.\u001b[0m\u001b[0madjlist_inner_dict_factory\u001b[0m\u001b[1;33m(\u001b[0m\u001b[1;33m)\u001b[0m\u001b[1;33m\u001b[0m\u001b[1;33m\u001b[0m\u001b[0m\n\u001b[0;32m    936\u001b[0m                 \u001b[0mself\u001b[0m\u001b[1;33m.\u001b[0m\u001b[0m_node\u001b[0m\u001b[1;33m[\u001b[0m\u001b[0mv\u001b[0m\u001b[1;33m]\u001b[0m \u001b[1;33m=\u001b[0m \u001b[0mself\u001b[0m\u001b[1;33m.\u001b[0m\u001b[0mnode_attr_dict_factory\u001b[0m\u001b[1;33m(\u001b[0m\u001b[1;33m)\u001b[0m\u001b[1;33m\u001b[0m\u001b[1;33m\u001b[0m\u001b[0m\n\u001b[1;32m--> 937\u001b[1;33m             \u001b[0mdatadict\u001b[0m \u001b[1;33m=\u001b[0m \u001b[0mself\u001b[0m\u001b[1;33m.\u001b[0m\u001b[0m_adj\u001b[0m\u001b[1;33m[\u001b[0m\u001b[0mu\u001b[0m\u001b[1;33m]\u001b[0m\u001b[1;33m.\u001b[0m\u001b[0mget\u001b[0m\u001b[1;33m(\u001b[0m\u001b[0mv\u001b[0m\u001b[1;33m,\u001b[0m \u001b[0mself\u001b[0m\u001b[1;33m.\u001b[0m\u001b[0medge_attr_dict_factory\u001b[0m\u001b[1;33m(\u001b[0m\u001b[1;33m)\u001b[0m\u001b[1;33m)\u001b[0m\u001b[1;33m\u001b[0m\u001b[1;33m\u001b[0m\u001b[0m\n\u001b[0m\u001b[0;32m    938\u001b[0m             \u001b[0mdatadict\u001b[0m\u001b[1;33m.\u001b[0m\u001b[0mupdate\u001b[0m\u001b[1;33m(\u001b[0m\u001b[0mattr\u001b[0m\u001b[1;33m)\u001b[0m\u001b[1;33m\u001b[0m\u001b[1;33m\u001b[0m\u001b[0m\n\u001b[0;32m    939\u001b[0m             \u001b[0mdatadict\u001b[0m\u001b[1;33m.\u001b[0m\u001b[0mupdate\u001b[0m\u001b[1;33m(\u001b[0m\u001b[0mdd\u001b[0m\u001b[1;33m)\u001b[0m\u001b[1;33m\u001b[0m\u001b[1;33m\u001b[0m\u001b[0m\n",
      "\u001b[1;31mKeyboardInterrupt\u001b[0m: "
     ]
    }
   ],
   "source": [
    "times = []\n",
    "output = []\n",
    "for  i  in mat_list:\n",
    "    t0 = time()\n",
    "    output.append(lower_bound(i))\n",
    "    t1 =time()\n",
    "    times.append(t1-t0)\n"
   ]
  },
  {
   "cell_type": "code",
   "execution_count": 7,
   "metadata": {},
   "outputs": [
    {
     "output_type": "stream",
     "name": "stdout",
     "text": [
      "[0.1376361846923828, 0.14361286163330078, 0.23437190055847168, 0.348071813583374, 0.45977187156677246, 1.1738576889038086, 2.23801851272583, 33.43824052810669, 151.55016708374023, 460.58708477020264, 1106.691371679306]\n[(<GraphTheory.read.Graph object at 0x00000254B8DE3310>, 15), (<GraphTheory.read.Graph object at 0x00000254B916B730>, 36), (<GraphTheory.read.Graph object at 0x0000025499709D60>, 70), (<GraphTheory.read.Graph object at 0x0000025499709160>, 1513), (<GraphTheory.read.Graph object at 0x00000254B916B700>, 289), (<GraphTheory.read.Graph object at 0x00000254B916B820>, 24003.0), (<GraphTheory.read.Graph object at 0x00000254B916B7C0>, 6324.0), (<GraphTheory.read.Graph object at 0x00000254B8CC26A0>, 497.0), (<GraphTheory.read.Graph object at 0x00000254B8BEC4C0>, 8396), (<GraphTheory.read.Graph object at 0x00000254B8BEC490>, 2454.0), (<GraphTheory.read.Graph object at 0x00000254B8DE3520>, 1460)]\n"
     ]
    }
   ],
   "source": [
    "print(times)\n",
    "print(output)"
   ]
  },
  {
   "cell_type": "code",
   "execution_count": 8,
   "metadata": {},
   "outputs": [
    {
     "output_type": "execute_result",
     "data": {
      "text/plain": [
       "11"
      ]
     },
     "metadata": {},
     "execution_count": 8
    }
   ],
   "source": [
    "len(times)"
   ]
  },
  {
   "cell_type": "code",
   "execution_count": 12,
   "metadata": {},
   "outputs": [
    {
     "output_type": "stream",
     "name": "stdout",
     "text": [
      "[12, 28, 88, 1733, 291, 27603, 6656, 564, 9352, 2579, 1621, 2513]\n[4, 5, 8, 12, 15, 29, 38, 131, 194, 279, 380, 662]\n"
     ]
    }
   ],
   "source": [
    "print(opt_tour_lengths[0:12]) # the first 11 have run \n",
    "print([len(i) for i in mat_list][0:12])"
   ]
  },
  {
   "cell_type": "code",
   "execution_count": 14,
   "metadata": {},
   "outputs": [
    {
     "output_type": "execute_result",
     "data": {
      "text/plain": [
       "[array([[   0,  534,  112, ..., 5001, 5011, 5528],\n",
       "        [ 534,    0,  488, ..., 4837, 4848, 5260],\n",
       "        [ 112,  488,    0, ..., 4890, 4901, 5417],\n",
       "        ...,\n",
       "        [5001, 4837, 4890, ...,    0,   15, 1204],\n",
       "        [5011, 4848, 4901, ...,   15,    0, 1211],\n",
       "        [5528, 5260, 5417, ..., 1204, 1211,    0]]),\n",
       " array([[   0, 1504, 1362, ..., 6517, 6524, 6562],\n",
       "        [1504,    0, 2738, ..., 6463, 6289, 6541],\n",
       "        [1362, 2738,    0, ..., 6053, 6222, 6068],\n",
       "        ...,\n",
       "        [6517, 6463, 6053, ...,    0,  784,  154],\n",
       "        [6524, 6289, 6222, ...,  784,    0,  933],\n",
       "        [6562, 6541, 6068, ...,  154,  933,    0]])]"
      ]
     },
     "metadata": {},
     "execution_count": 14
    }
   ],
   "source": [
    "remaining = mat_list[12:]\n",
    "times = []\n",
    "output = []\n",
    "for  i  in remaining:\n",
    "    t0 = time()\n",
    "    output.append(lower_bound(i))\n",
    "    t1 =time()\n",
    "    times.append(t1-t0)\n",
    "    print(t1-t0)"
   ]
  },
  {
   "cell_type": "code",
   "execution_count": null,
   "metadata": {},
   "outputs": [],
   "source": [
    "print(times)\n",
    "print(output)"
   ]
  }
 ]
}